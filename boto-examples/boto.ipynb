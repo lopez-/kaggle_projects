{
 "cells": [
  {
   "cell_type": "code",
   "execution_count": 9,
   "metadata": {},
   "outputs": [],
   "source": [
    "import boto3\n",
    "import json\n",
    "\n",
    "with open('../boto-config.json') as json_data:\n",
    "    boto_config = json.load(json_data)\n",
    "    \n",
    "s3 = boto3.client(\n",
    "    's3',\n",
    "    aws_access_key_id=boto_config['aws_access_key_id'],\n",
    "    aws_secret_access_key=boto_config['aws_secret_access_key']\n",
    ")"
   ]
  },
  {
   "cell_type": "code",
   "execution_count": null,
   "metadata": {},
   "outputs": [],
   "source": [
    "# list buckets\n",
    "s3.list_buckets()"
   ]
  },
  {
   "cell_type": "code",
   "execution_count": null,
   "metadata": {},
   "outputs": [],
   "source": [
    "# create bucket\n",
    "bucket_name = 'XXX'\n",
    "s3.create_bucket(Bucket=bucket_name\n",
    "                          , CreateBucketConfiguration={'LocationConstraint': boto_config['region']})"
   ]
  },
  {
   "cell_type": "code",
   "execution_count": null,
   "metadata": {},
   "outputs": [],
   "source": [
    "# upload file\n",
    "filename = 'XXX'\n",
    "s3.upload_file(filename, bucket_name, filename)"
   ]
  },
  {
   "cell_type": "code",
   "execution_count": null,
   "metadata": {},
   "outputs": [],
   "source": [
    "# download file\n",
    "filename = 'XXX'\n",
    "s3.download_file(bucket_name, filename, filename)"
   ]
  }
 ],
 "metadata": {
  "kernelspec": {
   "display_name": "Python [conda env:anaconda3]",
   "language": "python",
   "name": "conda-env-anaconda3-py"
  },
  "language_info": {
   "codemirror_mode": {
    "name": "ipython",
    "version": 3
   },
   "file_extension": ".py",
   "mimetype": "text/x-python",
   "name": "python",
   "nbconvert_exporter": "python",
   "pygments_lexer": "ipython3",
   "version": "3.6.5"
  }
 },
 "nbformat": 4,
 "nbformat_minor": 2
}
