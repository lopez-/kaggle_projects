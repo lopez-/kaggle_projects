{
 "cells": [
  {
   "cell_type": "code",
   "execution_count": 1,
   "metadata": {},
   "outputs": [
    {
     "name": "stderr",
     "output_type": "stream",
     "text": [
      "Using TensorFlow backend.\n"
     ]
    }
   ],
   "source": [
    "import pandas as pd\n",
    "from pandasql import sqldf\n",
    "import boto3\n",
    "import json\n",
    "from keras.callbacks import EarlyStopping, ModelCheckpoint, TensorBoard\n",
    "import os\n",
    "from geopy.distance import distance\n",
    "import numpy as np\n",
    "from sklearn.preprocessing import Normalizer\n",
    "from keras import models, layers\n",
    "from sklearn.model_selection import train_test_split\n",
    "%run '../extra_fns.ipynb'\n",
    "from sklearn.cluster import KMeans\n",
    "import matplotlib.pyplot as plt"
   ]
  },
  {
   "cell_type": "code",
   "execution_count": 2,
   "metadata": {},
   "outputs": [],
   "source": [
    "with open('../config.json') as json_data:\n",
    "    config = json.load(json_data)"
   ]
  },
  {
   "cell_type": "code",
   "execution_count": 3,
   "metadata": {},
   "outputs": [],
   "source": [
    "s3 = boto3.client(\n",
    "    's3',\n",
    "    aws_access_key_id=config['boto']['aws_access_key_id'],\n",
    "    aws_secret_access_key=config['boto']['aws_secret_access_key']\n",
    ")"
   ]
  },
  {
   "cell_type": "code",
   "execution_count": 4,
   "metadata": {},
   "outputs": [
    {
     "name": "stdout",
     "output_type": "stream",
     "text": [
      "[Errno 17] File exists: 'trained_models'\n"
     ]
    }
   ],
   "source": [
    "model_dir = 'trained_models'\n",
    "try:\n",
    "    os.makedirs(model_dir)\n",
    "except Exception as e:\n",
    "    print(e)"
   ]
  },
  {
   "cell_type": "code",
   "execution_count": 5,
   "metadata": {},
   "outputs": [],
   "source": [
    "callbacks = [\n",
    "    EarlyStopping(monitor='val_mean_absolute_error', patience=1),\n",
    "    ModelCheckpoint(filepath=model_dir + '/basic_model.h5', monitor='val_loss', save_best_only=True)\n",
    "]"
   ]
  },
  {
   "cell_type": "code",
   "execution_count": 6,
   "metadata": {},
   "outputs": [],
   "source": [
    "data_dir = 'data'\n",
    "if not os.path.exists(data_dir):\n",
    "    os.makedirs(data_dir)\n",
    "    \n",
    "train_file = data_dir + '/train.csv'\n",
    "test_file = data_dir + '/test.csv'\n",
    "\n",
    "# s3.upload_file(src_file, boto_config['buckets']['kaggle'], src_file)\n",
    "# s3.upload_file(src_file_cleaned, boto_config['buckets']['kaggle'], src_file_cleaned)\n",
    "\n",
    "# s3.download_file(boto_config['buckets']['kaggle'], src_file, src_file)\n",
    "# s3.download_file(boto_config['buckets']['kaggle'], src_file_cleaned, src_file_cleaned)\n",
    "\n",
    "# train = pd.read_csv(train_file)\n",
    "# test = pd.read_csv(test_file)"
   ]
  },
  {
   "cell_type": "code",
   "execution_count": 7,
   "metadata": {
    "scrolled": true
   },
   "outputs": [],
   "source": [
    "# train['distance'] = train.apply(lambda row : int(distance(\n",
    "#     (row['pickup_latitude'], row['pickup_longitude']),\n",
    "#     (row['dropoff_latitude'], row['dropoff_longitude'])).m), axis=1)\n",
    "\n",
    "# train.pickup_datetime = pd.to_datetime(train.pickup_datetime)\n",
    "\n",
    "# train['pickup_monthday'] = train.pickup_datetime.dt.day\n",
    "# train['pickup_weekday'] = train.pickup_datetime.dt.weekday\n",
    "# train['pickup_hour'] = train.pickup_datetime.dt.hour"
   ]
  },
  {
   "cell_type": "code",
   "execution_count": 8,
   "metadata": {},
   "outputs": [],
   "source": [
    "# test['distance'] = test.apply(lambda row : int(distance(\n",
    "#     (row['pickup_latitude'], row['pickup_longitude']),\n",
    "#     (row['dropoff_latitude'], row['dropoff_longitude'])).m), axis=1)\n",
    "\n",
    "# test.pickup_datetime = pd.to_datetime(test.pickup_datetime)\n",
    "\n",
    "# test['pickup_monthday'] = test.pickup_datetime.dt.day\n",
    "# test['pickup_weekday'] = test.pickup_datetime.dt.weekday\n",
    "# test['pickup_hour'] = test.pickup_datetime.dt.hour"
   ]
  },
  {
   "cell_type": "code",
   "execution_count": 9,
   "metadata": {
    "scrolled": true
   },
   "outputs": [],
   "source": [
    "# train.to_csv('./data/train-clean.csv')\n",
    "# test.to_csv('./data/test-clean.csv')\n",
    "\n",
    "train = pd.read_csv('./data/train-clean.csv')\n",
    "test = pd.read_csv('./data/test-clean.csv')"
   ]
  },
  {
   "cell_type": "markdown",
   "metadata": {},
   "source": [
    "# Prediction"
   ]
  },
  {
   "cell_type": "code",
   "execution_count": 11,
   "metadata": {
    "scrolled": true
   },
   "outputs": [],
   "source": [
    "y_train = np.array(train.trip_duration)\n",
    "X_train = np.array(train.loc[:, ['passenger_count', 'distance', 'pickup_monthday', 'pickup_weekday', 'pickup_hour', 'pickup_latitude', 'pickup_longitude', 'dropoff_latitude', 'dropoff_longitude']])\n",
    "\n",
    "X_train, X_val, y_train, y_val = train_test_split(X_train, y_train, test_size=0.2, random_state=1)\n",
    "\n",
    "X_test = np.array(test.loc[:, ['passenger_count', 'distance', 'pickup_monthday', 'pickup_weekday', 'pickup_hour', 'pickup_latitude', 'pickup_longitude', 'dropoff_latitude', 'dropoff_longitude']])"
   ]
  },
  {
   "cell_type": "code",
   "execution_count": 13,
   "metadata": {},
   "outputs": [],
   "source": [
    "nml = Normalizer()\n",
    "\n",
    "X_train = nml.fit_transform(X_train)\n",
    "X_val = nml.transform(X_val)\n",
    "X_test = nml.transform(X_test)"
   ]
  },
  {
   "cell_type": "code",
   "execution_count": 22,
   "metadata": {
    "scrolled": true
   },
   "outputs": [
    {
     "name": "stdout",
     "output_type": "stream",
     "text": [
      "_________________________________________________________________\n",
      "Layer (type)                 Output Shape              Param #   \n",
      "=================================================================\n",
      "dense_9 (Dense)              (None, 128)               1280      \n",
      "_________________________________________________________________\n",
      "dense_10 (Dense)             (None, 32)                4128      \n",
      "_________________________________________________________________\n",
      "dropout_3 (Dropout)          (None, 32)                0         \n",
      "_________________________________________________________________\n",
      "dense_11 (Dense)             (None, 16)                528       \n",
      "_________________________________________________________________\n",
      "dropout_4 (Dropout)          (None, 16)                0         \n",
      "_________________________________________________________________\n",
      "dense_12 (Dense)             (None, 1)                 17        \n",
      "=================================================================\n",
      "Total params: 5,953\n",
      "Trainable params: 5,953\n",
      "Non-trainable params: 0\n",
      "_________________________________________________________________\n",
      "Train on 1166915 samples, validate on 291729 samples\n",
      "Epoch 1/20\n",
      "1166915/1166915 [==============================] - 5s 4us/step - loss: 28262014.0928 - mean_absolute_error: 635.3415 - val_loss: 24341903.3099 - val_mean_absolute_error: 529.5220\n",
      "Epoch 2/20\n",
      "1166915/1166915 [==============================] - 5s 4us/step - loss: 27995752.0385 - mean_absolute_error: 488.3275 - val_loss: 24221262.1194 - val_mean_absolute_error: 422.3057\n",
      "Epoch 3/20\n",
      "1166915/1166915 [==============================] - 5s 4us/step - loss: 27935937.5393 - mean_absolute_error: 452.4058 - val_loss: 24206956.7746 - val_mean_absolute_error: 410.8979\n",
      "Epoch 4/20\n",
      "1166915/1166915 [==============================] - 5s 4us/step - loss: 27916913.0765 - mean_absolute_error: 446.4667 - val_loss: 24192980.1554 - val_mean_absolute_error: 407.3875\n",
      "Epoch 5/20\n",
      "1166915/1166915 [==============================] - 5s 4us/step - loss: 27912686.7283 - mean_absolute_error: 442.9652 - val_loss: 24186830.2158 - val_mean_absolute_error: 418.0494\n"
     ]
    }
   ],
   "source": [
    "model = models.Sequential()\n",
    "model.add(layers.Dense(128, activation='relu', input_shape=(X_train.shape[1],)))\n",
    "model.add(layers.Dense(32, activation='relu'))\n",
    "model.add(layers.Dropout(0.2))\n",
    "model.add(layers.Dense(16, activation='relu'))\n",
    "model.add(layers.Dropout(0.1))\n",
    "model.add(layers.Dense(1))\n",
    "\n",
    "model.compile(loss='mse', optimizer='rmsprop', metrics=['mae'])\n",
    "\n",
    "model.summary()\n",
    "\n",
    "history = model.fit(X_train, \n",
    "                    y_train, \n",
    "                    epochs=20, \n",
    "                    batch_size=512,\n",
    "                    callbacks=callbacks,\n",
    "                    validation_data=(X_val, y_val))"
   ]
  },
  {
   "cell_type": "code",
   "execution_count": 23,
   "metadata": {},
   "outputs": [
    {
     "name": "stdout",
     "output_type": "stream",
     "text": [
      "Min Val Absolute Error 407.38754559163755 on Epoch 3\n"
     ]
    },
    {
     "data": {
      "image/png": "[encoded data removed]",
      "text/plain": [
       "<Figure size 1296x432 with 2 Axes>"
      ]
     },
     "metadata": {
      "needs_background": "light"
     },
     "output_type": "display_data"
    }
   ],
   "source": [
    "results = history.history\n",
    "epochs = history.epoch\n",
    "\n",
    "print('Min Val Absolute Error {0} on Epoch {1}'.format(np.min(results['val_mean_absolute_error']), np.argmin(results['val_mean_absolute_error'])))\n",
    "\n",
    "fig, (ax1, ax2) = plt.subplots(1,2, figsize=(18,6))\n",
    "\n",
    "ax1.plot(epochs, results['mean_absolute_error'], label='train')\n",
    "ax1.plot(epochs, results['val_mean_absolute_error'], label='val')\n",
    "ax1.set_title('Accuracy')\n",
    "# ax1.set_ylim([0, 1])\n",
    "ax1.legend()\n",
    "\n",
    "ax2.plot(epochs, results['loss'], label='train')\n",
    "ax2.plot(epochs, results['val_loss'], label='val')\n",
    "ax2.set_title('Loss')\n",
    "ax2.legend()\n",
    "\n",
    "plt.show()"
   ]
  },
  {
   "cell_type": "code",
   "execution_count": 24,
   "metadata": {},
   "outputs": [],
   "source": [
    "model = models.load_model(model_dir + '/basic_model.h5')"
   ]
  },
  {
   "cell_type": "code",
   "execution_count": 25,
   "metadata": {},
   "outputs": [],
   "source": [
    "predictions = model.predict(X_test).astype(int)\n",
    "\n",
    "subs = pd.DataFrame()\n",
    "subs['id'] = test.id\n",
    "subs['trip_duration'] = predictions\n",
    "\n",
    "subs.to_csv(data_dir + '/subs.csv', index=False) # 0.59 in kaggle"
   ]
  },
  {
   "cell_type": "markdown",
   "metadata": {},
   "source": [
    "# Geocluster"
   ]
  },
  {
   "cell_type": "code",
   "execution_count": 29,
   "metadata": {},
   "outputs": [
    {
     "data": {
      "image/png": "[encoded data removed]",
      "text/plain": [
       "<Figure size 432x288 with 1 Axes>"
      ]
     },
     "metadata": {
      "needs_background": "light"
     },
     "output_type": "display_data"
    }
   ],
   "source": [
    "distortions = []\n",
    "\n",
    "for i in range(1, 11):\n",
    "    km = KMeans(n_clusters=i,\n",
    "                init = 'k-means++', \n",
    "                n_init = 10,\n",
    "                max_iter = 300,\n",
    "                random_state = 1)\n",
    "    \n",
    "    km.fit(train.loc[:, ['pickup_latitude', 'pickup_longitude']])\n",
    "    distortions.append(km.inertia_)\n",
    "\n",
    "plt.plot(range(1, 11), distortions, marker='o')\n",
    "plt.xlabel('Number of clusters')\n",
    "plt.ylabel('Distortions')\n",
    "plt.show()"
   ]
  },
  {
   "cell_type": "code",
   "execution_count": 37,
   "metadata": {},
   "outputs": [],
   "source": [
    "i = 8\n",
    "km = KMeans(n_clusters=i,\n",
    "            init = 'k-means++', \n",
    "            n_init = 10,\n",
    "            max_iter = 300,\n",
    "            random_state = 1)\n",
    "\n",
    "train['pickup_cl'] = km.fit_predict(train.loc[:, ['pickup_latitude', 'pickup_longitude']])\n",
    "train['dropoff_cl'] = km.predict(train.loc[:, ['dropoff_latitude', 'dropoff_longitude']])\n",
    "test['pickup_cl'] = km.predict(test.loc[:, ['pickup_latitude', 'pickup_longitude']])\n",
    "test['dropoff_cl'] = km.predict(test.loc[:, ['dropoff_latitude', 'dropoff_longitude']])\n"
   ]
  },
  {
   "cell_type": "code",
   "execution_count": 38,
   "metadata": {},
   "outputs": [],
   "source": [
    "y_train = np.array(train.trip_duration)\n",
    "X_train = np.array(train.loc[:, ['passenger_count', 'distance', 'pickup_monthday', 'pickup_weekday', 'pickup_hour', 'pickup_cl', 'dropoff_cl']])\n",
    "\n",
    "X_train, X_val, y_train, y_val = train_test_split(X_train, y_train, test_size=0.2, random_state=1)\n",
    "\n",
    "X_test = np.array(test.loc[:, ['passenger_count', 'distance', 'pickup_monthday', 'pickup_weekday', 'pickup_hour', 'pickup_cl', 'dropoff_cl']])"
   ]
  },
  {
   "cell_type": "code",
   "execution_count": 39,
   "metadata": {},
   "outputs": [],
   "source": [
    "nml = Normalizer()\n",
    "\n",
    "X_train = nml.fit_transform(X_train)\n",
    "X_val = nml.transform(X_val)\n",
    "X_test = nml.transform(X_test)"
   ]
  },
  {
   "cell_type": "code",
   "execution_count": 42,
   "metadata": {},
   "outputs": [
    {
     "name": "stdout",
     "output_type": "stream",
     "text": [
      "_________________________________________________________________\n",
      "Layer (type)                 Output Shape              Param #   \n",
      "=================================================================\n",
      "dense_17 (Dense)             (None, 64)                512       \n",
      "_________________________________________________________________\n",
      "dense_18 (Dense)             (None, 32)                2080      \n",
      "_________________________________________________________________\n",
      "dropout_7 (Dropout)          (None, 32)                0         \n",
      "_________________________________________________________________\n",
      "dense_19 (Dense)             (None, 16)                528       \n",
      "_________________________________________________________________\n",
      "dropout_8 (Dropout)          (None, 16)                0         \n",
      "_________________________________________________________________\n",
      "dense_20 (Dense)             (None, 1)                 17        \n",
      "=================================================================\n",
      "Total params: 3,137\n",
      "Trainable params: 3,137\n",
      "Non-trainable params: 0\n",
      "_________________________________________________________________\n",
      "Train on 1166915 samples, validate on 291729 samples\n",
      "Epoch 1/20\n",
      "1166915/1166915 [==============================] - 5s 4us/step - loss: 28275454.0713 - mean_absolute_error: 652.0000 - val_loss: 24458838.0510 - val_mean_absolute_error: 607.2942\n",
      "Epoch 2/20\n",
      "1166915/1166915 [==============================] - 5s 4us/step - loss: 28137530.5829 - mean_absolute_error: 598.7194 - val_loss: 24393222.9337 - val_mean_absolute_error: 536.8694\n",
      "Epoch 3/20\n",
      "1166915/1166915 [==============================] - 5s 4us/step - loss: 28052995.7027 - mean_absolute_error: 531.4736 - val_loss: 24304222.5827 - val_mean_absolute_error: 511.9712\n",
      "Epoch 4/20\n",
      "1166915/1166915 [==============================] - 5s 4us/step - loss: 27999769.2271 - mean_absolute_error: 493.1920 - val_loss: 24262077.5024 - val_mean_absolute_error: 467.7615\n",
      "Epoch 5/20\n",
      "1166915/1166915 [==============================] - 5s 4us/step - loss: 27970828.8212 - mean_absolute_error: 480.6556 - val_loss: 24252167.8225 - val_mean_absolute_error: 454.4949\n",
      "Epoch 6/20\n",
      "1166915/1166915 [==============================] - 5s 4us/step - loss: 27960652.3113 - mean_absolute_error: 476.1802 - val_loss: 24249246.0176 - val_mean_absolute_error: 449.7512\n",
      "Epoch 7/20\n",
      "1166915/1166915 [==============================] - 5s 4us/step - loss: 27958178.1484 - mean_absolute_error: 473.4670 - val_loss: 24243470.4549 - val_mean_absolute_error: 447.2768\n",
      "Epoch 8/20\n",
      "1166915/1166915 [==============================] - 5s 4us/step - loss: 27948022.6736 - mean_absolute_error: 473.1664 - val_loss: 24246722.7031 - val_mean_absolute_error: 438.8275\n",
      "Epoch 9/20\n",
      "1166915/1166915 [==============================] - 5s 4us/step - loss: 27950646.7647 - mean_absolute_error: 470.5016 - val_loss: 24238965.3688 - val_mean_absolute_error: 478.0358\n"
     ]
    }
   ],
   "source": [
    "model = models.Sequential()\n",
    "model.add(layers.Dense(64, activation='relu', input_shape=(X_train.shape[1],)))\n",
    "model.add(layers.Dense(32, activation='relu'))\n",
    "model.add(layers.Dropout(0.2))\n",
    "model.add(layers.Dense(16, activation='relu'))\n",
    "model.add(layers.Dropout(0.1))\n",
    "model.add(layers.Dense(1))\n",
    "\n",
    "model.compile(loss='mse', optimizer='rmsprop', metrics=['mae'])\n",
    "\n",
    "model.summary()\n",
    "\n",
    "history = model.fit(X_train, \n",
    "                    y_train, \n",
    "                    epochs=20, \n",
    "                    batch_size=512,\n",
    "                    callbacks=callbacks,\n",
    "                    validation_data=(X_val, y_val))"
   ]
  },
  {
   "cell_type": "code",
   "execution_count": 43,
   "metadata": {},
   "outputs": [
    {
     "name": "stdout",
     "output_type": "stream",
     "text": [
      "Min Val Absolute Error 438.82750076405824 on Epoch 7\n"
     ]
    },
    {
     "data": {
      "image/png": "[encoded data removed]",
      "text/plain": [
       "<Figure size 1296x432 with 2 Axes>"
      ]
     },
     "metadata": {
      "needs_background": "light"
     },
     "output_type": "display_data"
    }
   ],
   "source": [
    "results = history.history\n",
    "epochs = history.epoch\n",
    "\n",
    "print('Min Val Absolute Error {0} on Epoch {1}'.format(np.min(results['val_mean_absolute_error']), np.argmin(results['val_mean_absolute_error'])))\n",
    "\n",
    "fig, (ax1, ax2) = plt.subplots(1,2, figsize=(18,6))\n",
    "\n",
    "ax1.plot(epochs, results['mean_absolute_error'], label='train')\n",
    "ax1.plot(epochs, results['val_mean_absolute_error'], label='val')\n",
    "ax1.set_title('Accuracy')\n",
    "# ax1.set_ylim([0, 1])\n",
    "ax1.legend()\n",
    "\n",
    "ax2.plot(epochs, results['loss'], label='train')\n",
    "ax2.plot(epochs, results['val_loss'], label='val')\n",
    "ax2.set_title('Loss')\n",
    "ax2.legend()\n",
    "\n",
    "plt.show()"
   ]
  },
  {
   "cell_type": "code",
   "execution_count": 44,
   "metadata": {},
   "outputs": [],
   "source": [
    "predictions = model.predict(X_test).astype(int)\n",
    "\n",
    "subs = pd.DataFrame()\n",
    "subs['id'] = test.id\n",
    "subs['trip_duration'] = predictions\n",
    "\n",
    "subs.to_csv(data_dir + '/subs.csv', index=False) # 0.64 in kaggle"
   ]
  },
  {
   "cell_type": "code",
   "execution_count": null,
   "metadata": {},
   "outputs": [],
   "source": []
  },
  {
   "cell_type": "code",
   "execution_count": null,
   "metadata": {},
   "outputs": [],
   "source": []
  },
  {
   "cell_type": "code",
   "execution_count": null,
   "metadata": {},
   "outputs": [],
   "source": []
  },
  {
   "cell_type": "code",
   "execution_count": null,
   "metadata": {},
   "outputs": [],
   "source": []
  },
  {
   "cell_type": "code",
   "execution_count": null,
   "metadata": {},
   "outputs": [],
   "source": []
  },
  {
   "cell_type": "code",
   "execution_count": null,
   "metadata": {},
   "outputs": [],
   "source": []
  },
  {
   "cell_type": "code",
   "execution_count": null,
   "metadata": {},
   "outputs": [],
   "source": []
  },
  {
   "cell_type": "code",
   "execution_count": null,
   "metadata": {},
   "outputs": [],
   "source": []
  }
 ],
 "metadata": {
  "kernelspec": {
   "display_name": "Python 3",
   "language": "python",
   "name": "python3"
  },
  "language_info": {
   "codemirror_mode": {
    "name": "ipython",
    "version": 3
   },
   "file_extension": ".py",
   "mimetype": "text/x-python",
   "name": "python",
   "nbconvert_exporter": "python",
   "pygments_lexer": "ipython3",
   "version": "3.6.7"
  }
 },
 "nbformat": 4,
 "nbformat_minor": 2
}
