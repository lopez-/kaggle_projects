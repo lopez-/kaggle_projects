{
 "cells": [
  {
   "cell_type": "code",
   "execution_count": 34,
   "metadata": {},
   "outputs": [],
   "source": [
    "import pandas as pd\n",
    "from pandasql import sqldf\n",
    "import boto3\n",
    "import json\n",
    "import os\n",
    "# python -m spacy download en\n",
    "import spacy\n",
    "from spacy.lang.en.stop_words import STOP_WORDS\n",
    "from keras import models, layers\n",
    "# from keras.preprocessing.text import Tokenizer, text_to_word_sequence\n",
    "from sklearn.feature_extraction.text import TfidfVectorizer\n",
    "from sklearn.model_selection import train_test_split\n",
    "from sklearn.preprocessing import LabelEncoder\n",
    "# from sklearn.preprocessing import LabelBinarizer\n",
    "# import numpy as np\n",
    "from keras.utils import to_categorical\n",
    "from keras.models import Sequential\n",
    "from keras.layers import Dense, Embedding, Flatten, Conv1D, MaxPool1D, Dropout\n",
    "# from sklearn.metrics import confusion_matrix\n",
    "# import seaborn as sns\n",
    "import matplotlib.pyplot as plt\n",
    "import copy\n",
    "import numpy as np\n",
    "from keras.preprocessing.text import Tokenizer\n",
    "from keras.preprocessing.sequence import pad_sequences\n",
    "from keras.callbacks import EarlyStopping, TensorBoard\n",
    "%run '../extra_fns.ipynb'\n"
   ]
  },
  {
   "cell_type": "code",
   "execution_count": 35,
   "metadata": {},
   "outputs": [],
   "source": [
    "log_dir = '/home/lopez/Documents/tensorboard-logs'"
   ]
  },
  {
   "cell_type": "code",
   "execution_count": 3,
   "metadata": {},
   "outputs": [],
   "source": [
    "with open('../boto-config.json') as json_data:\n",
    "    boto_config = json.load(json_data)\n",
    "    \n",
    "s3 = boto3.client(\n",
    "    's3',\n",
    "    aws_access_key_id=boto_config['aws_access_key_id'],\n",
    "    aws_secret_access_key=boto_config['aws_secret_access_key']\n",
    ")"
   ]
  },
  {
   "cell_type": "code",
   "execution_count": 4,
   "metadata": {},
   "outputs": [
    {
     "name": "stdout",
     "output_type": "stream",
     "text": [
      "[Errno 17] File exists: 'trained_models'\n"
     ]
    }
   ],
   "source": [
    "model_dir = 'trained_models'\n",
    "try:\n",
    "    os.makedirs(model_dir)\n",
    "except Exception as e:\n",
    "    print(e)"
   ]
  },
  {
   "cell_type": "code",
   "execution_count": 5,
   "metadata": {},
   "outputs": [],
   "source": [
    "data_dir = 'data'\n",
    "embedding_dir = 'embeddings'\n",
    "if not os.path.exists(data_dir):\n",
    "    os.makedirs(data_dir)\n",
    "    \n",
    "src_file = data_dir + '/News_Category_Dataset.json'\n",
    "src_file_cleaned = data_dir + '/News_Clean.csv'\n",
    "\n",
    "# s3.upload_file(src_file, boto_config['buckets']['kaggle'], src_file)\n",
    "# s3.upload_file(src_file_cleaned, boto_config['buckets']['kaggle'], src_file_cleaned)\n",
    "\n",
    "# s3.download_file(boto_config['buckets']['kaggle'], src_file, src_file)\n",
    "# s3.download_file(boto_config['buckets']['kaggle'], src_file_cleaned, src_file_cleaned)"
   ]
  },
  {
   "cell_type": "code",
   "execution_count": 6,
   "metadata": {},
   "outputs": [],
   "source": [
    "df = pd.read_json(src_file, lines=True)\n",
    "# df = pd.read_csv(src_file_cleaned)\n",
    "# df = df[~df.clean_text.isnull()]"
   ]
  },
  {
   "cell_type": "code",
   "execution_count": 7,
   "metadata": {},
   "outputs": [
    {
     "data": {
      "text/html": [
       "<div>\n",
       "<style scoped>\n",
       "    .dataframe tbody tr th:only-of-type {\n",
       "        vertical-align: middle;\n",
       "    }\n",
       "\n",
       "    .dataframe tbody tr th {\n",
       "        vertical-align: top;\n",
       "    }\n",
       "\n",
       "    .dataframe thead th {\n",
       "        text-align: right;\n",
       "    }\n",
       "</style>\n",
       "<table border=\"1\" class=\"dataframe\">\n",
       "  <thead>\n",
       "    <tr style=\"text-align: right;\">\n",
       "      <th></th>\n",
       "      <th>authors</th>\n",
       "      <th>category</th>\n",
       "      <th>date</th>\n",
       "      <th>headline</th>\n",
       "      <th>link</th>\n",
       "      <th>short_description</th>\n",
       "    </tr>\n",
       "  </thead>\n",
       "  <tbody>\n",
       "    <tr>\n",
       "      <th>0</th>\n",
       "      <td>Melissa Jeltsen</td>\n",
       "      <td>CRIME</td>\n",
       "      <td>2018-05-26</td>\n",
       "      <td>There Were 2 Mass Shootings In Texas Last Week...</td>\n",
       "      <td>https://www.huffingtonpost.com/entry/texas-ama...</td>\n",
       "      <td>She left her husband. He killed their children...</td>\n",
       "    </tr>\n",
       "    <tr>\n",
       "      <th>1</th>\n",
       "      <td>Andy McDonald</td>\n",
       "      <td>ENTERTAINMENT</td>\n",
       "      <td>2018-05-26</td>\n",
       "      <td>Will Smith Joins Diplo And Nicky Jam For The 2...</td>\n",
       "      <td>https://www.huffingtonpost.com/entry/will-smit...</td>\n",
       "      <td>Of course it has a song.</td>\n",
       "    </tr>\n",
       "    <tr>\n",
       "      <th>2</th>\n",
       "      <td>Ron Dicker</td>\n",
       "      <td>ENTERTAINMENT</td>\n",
       "      <td>2018-05-26</td>\n",
       "      <td>Hugh Grant Marries For The First Time At Age 57</td>\n",
       "      <td>https://www.huffingtonpost.com/entry/hugh-gran...</td>\n",
       "      <td>The actor and his longtime girlfriend Anna Ebe...</td>\n",
       "    </tr>\n",
       "    <tr>\n",
       "      <th>3</th>\n",
       "      <td>Ron Dicker</td>\n",
       "      <td>ENTERTAINMENT</td>\n",
       "      <td>2018-05-26</td>\n",
       "      <td>Jim Carrey Blasts 'Castrato' Adam Schiff And D...</td>\n",
       "      <td>https://www.huffingtonpost.com/entry/jim-carre...</td>\n",
       "      <td>The actor gives Dems an ass-kicking for not fi...</td>\n",
       "    </tr>\n",
       "    <tr>\n",
       "      <th>4</th>\n",
       "      <td>Ron Dicker</td>\n",
       "      <td>ENTERTAINMENT</td>\n",
       "      <td>2018-05-26</td>\n",
       "      <td>Julianna Margulies Uses Donald Trump Poop Bags...</td>\n",
       "      <td>https://www.huffingtonpost.com/entry/julianna-...</td>\n",
       "      <td>The \"Dietland\" actress said using the bags is ...</td>\n",
       "    </tr>\n",
       "  </tbody>\n",
       "</table>\n",
       "</div>"
      ],
      "text/plain": [
       "           authors                        ...                                                          short_description\n",
       "0  Melissa Jeltsen                        ...                          She left her husband. He killed their children...\n",
       "1    Andy McDonald                        ...                                                   Of course it has a song.\n",
       "2       Ron Dicker                        ...                          The actor and his longtime girlfriend Anna Ebe...\n",
       "3       Ron Dicker                        ...                          The actor gives Dems an ass-kicking for not fi...\n",
       "4       Ron Dicker                        ...                          The \"Dietland\" actress said using the bags is ...\n",
       "\n",
       "[5 rows x 6 columns]"
      ]
     },
     "execution_count": 7,
     "metadata": {},
     "output_type": "execute_result"
    }
   ],
   "source": [
    "df.head()"
   ]
  },
  {
   "cell_type": "code",
   "execution_count": 8,
   "metadata": {},
   "outputs": [],
   "source": [
    "df['text'] = df['headline'] + ' ' + df['short_description']"
   ]
  },
  {
   "cell_type": "code",
   "execution_count": 9,
   "metadata": {},
   "outputs": [],
   "source": [
    "categories = np.array(df.category)"
   ]
  },
  {
   "cell_type": "code",
   "execution_count": 10,
   "metadata": {},
   "outputs": [],
   "source": [
    "lbler = LabelEncoder()"
   ]
  },
  {
   "cell_type": "code",
   "execution_count": 11,
   "metadata": {},
   "outputs": [],
   "source": [
    "labels = lbler.fit_transform(categories)"
   ]
  },
  {
   "cell_type": "markdown",
   "metadata": {},
   "source": [
    "# Tokenization"
   ]
  },
  {
   "cell_type": "code",
   "execution_count": 12,
   "metadata": {},
   "outputs": [],
   "source": [
    "max_dict_words = 10000\n",
    "max_seq_words = 60"
   ]
  },
  {
   "cell_type": "code",
   "execution_count": 13,
   "metadata": {},
   "outputs": [],
   "source": [
    "tokenizer = Tokenizer(num_words = max_dict_words)"
   ]
  },
  {
   "cell_type": "code",
   "execution_count": 14,
   "metadata": {},
   "outputs": [],
   "source": [
    "tokenizer.fit_on_texts(df['text'])\n",
    "\n",
    "sequences = tokenizer.texts_to_sequences(df['text'])\n",
    "\n",
    "data = pad_sequences(sequences, maxlen=max_seq_words)"
   ]
  },
  {
   "cell_type": "code",
   "execution_count": 15,
   "metadata": {},
   "outputs": [],
   "source": [
    "word_index = tokenizer.word_index"
   ]
  },
  {
   "cell_type": "code",
   "execution_count": 16,
   "metadata": {},
   "outputs": [],
   "source": [
    "indices = np.arange(data.shape[0])\n",
    "\n",
    "np.random.shuffle(indices)"
   ]
  },
  {
   "cell_type": "code",
   "execution_count": 17,
   "metadata": {},
   "outputs": [],
   "source": [
    "data = data[indices]\n",
    "labels = labels[indices]"
   ]
  },
  {
   "cell_type": "code",
   "execution_count": 18,
   "metadata": {},
   "outputs": [],
   "source": [
    "num_labels = len(set(labels))"
   ]
  },
  {
   "cell_type": "code",
   "execution_count": 19,
   "metadata": {},
   "outputs": [],
   "source": [
    "train_size = 0.7\n",
    "val_size = 0.1\n",
    "test_size = 1-train_size-val_size"
   ]
  },
  {
   "cell_type": "code",
   "execution_count": 20,
   "metadata": {},
   "outputs": [],
   "source": [
    "training_samples = int(data.shape[0]*train_size)\n",
    "val_samples = int(data.shape[0]*val_size)\n",
    "test_samples = data.shape[0]-training_samples-val_samples"
   ]
  },
  {
   "cell_type": "code",
   "execution_count": 21,
   "metadata": {},
   "outputs": [],
   "source": [
    "X_train = data[:training_samples]\n",
    "y_train = to_categorical(labels[:training_samples])\n",
    "\n",
    "X_val = data[training_samples:training_samples+val_samples]\n",
    "y_val = to_categorical(labels[training_samples:training_samples+val_samples])\n",
    "\n",
    "X_test = data[training_samples+val_samples:]\n",
    "y_test = to_categorical(labels[training_samples+val_samples:])"
   ]
  },
  {
   "cell_type": "markdown",
   "metadata": {},
   "source": [
    "# Using pretrained word embeddings"
   ]
  },
  {
   "cell_type": "markdown",
   "metadata": {},
   "source": [
    "## Glove\n",
    "https://nlp.stanford.edu/projects/glove/"
   ]
  },
  {
   "cell_type": "code",
   "execution_count": 44,
   "metadata": {},
   "outputs": [],
   "source": [
    "callbacks = [\n",
    "    EarlyStopping(monitor='acc', patience=1),\n",
    "    TensorBoard(log_dir=log_dir)\n",
    "]"
   ]
  },
  {
   "cell_type": "code",
   "execution_count": 37,
   "metadata": {},
   "outputs": [],
   "source": [
    "embedding_index = {}\n",
    "\n",
    "f = open(os.path.join(embedding_dir, 'glove.6B.100d.txt'))\n",
    "\n",
    "for line in f:\n",
    "    values = line.split()\n",
    "    word = values[0]\n",
    "    coefs = np.asarray(values[1:], dtype='float32')\n",
    "    embedding_index[word] = coefs\n",
    "    \n",
    "f.close()"
   ]
  },
  {
   "cell_type": "code",
   "execution_count": 38,
   "metadata": {},
   "outputs": [],
   "source": [
    "embedding_dim = 100\n",
    "\n",
    "embedding_matrix = np.zeros((max_dict_words, embedding_dim))\n",
    "for word, i in word_index.items():\n",
    "    if i < max_dict_words:\n",
    "        embedding_vector = embedding_index.get(word)\n",
    "        if embedding_vector is not None:\n",
    "            embedding_matrix[i] = embedding_vector        "
   ]
  },
  {
   "cell_type": "code",
   "execution_count": 39,
   "metadata": {},
   "outputs": [
    {
     "name": "stdout",
     "output_type": "stream",
     "text": [
      "_________________________________________________________________\n",
      "Layer (type)                 Output Shape              Param #   \n",
      "=================================================================\n",
      "embedding_5 (Embedding)      (None, 60, 100)           1000000   \n",
      "_________________________________________________________________\n",
      "conv1d_4 (Conv1D)            (None, 58, 128)           38528     \n",
      "_________________________________________________________________\n",
      "max_pooling1d_4 (MaxPooling1 (None, 29, 128)           0         \n",
      "_________________________________________________________________\n",
      "conv1d_5 (Conv1D)            (None, 27, 128)           49280     \n",
      "_________________________________________________________________\n",
      "max_pooling1d_5 (MaxPooling1 (None, 13, 128)           0         \n",
      "_________________________________________________________________\n",
      "conv1d_6 (Conv1D)            (None, 11, 128)           49280     \n",
      "_________________________________________________________________\n",
      "max_pooling1d_6 (MaxPooling1 (None, 5, 128)            0         \n",
      "_________________________________________________________________\n",
      "dropout_3 (Dropout)          (None, 5, 128)            0         \n",
      "_________________________________________________________________\n",
      "flatten_2 (Flatten)          (None, 640)               0         \n",
      "_________________________________________________________________\n",
      "dense_9 (Dense)              (None, 128)               82048     \n",
      "_________________________________________________________________\n",
      "dense_10 (Dense)             (None, 31)                3999      \n",
      "=================================================================\n",
      "Total params: 1,223,135\n",
      "Trainable params: 1,223,135\n",
      "Non-trainable params: 0\n",
      "_________________________________________________________________\n"
     ]
    }
   ],
   "source": [
    "model = Sequential()\n",
    "model.add(Embedding(max_dict_words, embedding_dim, input_length=max_seq_words))\n",
    "model.add(Conv1D(128, 3, activation='relu'))\n",
    "model.add(MaxPool1D(2))\n",
    "model.add(Conv1D(128, 3, activation='relu'))\n",
    "model.add(MaxPool1D(2))\n",
    "model.add(Conv1D(128, 3, activation='relu'))\n",
    "model.add(MaxPool1D(2))\n",
    "model.add(Dropout(0.5))\n",
    "model.add(Flatten())\n",
    "model.add(Dense(128, activation='relu'))\n",
    "model.add(Dense(num_labels, activation='softmax'))\n",
    "model.summary()"
   ]
  },
  {
   "cell_type": "code",
   "execution_count": 40,
   "metadata": {},
   "outputs": [],
   "source": [
    "model.layers[0].set_weights([embedding_matrix])\n",
    "model.layers[0].trainable = False"
   ]
  },
  {
   "cell_type": "code",
   "execution_count": 41,
   "metadata": {},
   "outputs": [],
   "source": [
    "model.compile(optimizer='rmsprop', loss='categorical_crossentropy', metrics=['acc'])"
   ]
  },
  {
   "cell_type": "code",
   "execution_count": 46,
   "metadata": {
    "scrolled": true
   },
   "outputs": [
    {
     "name": "stdout",
     "output_type": "stream",
     "text": [
      "Train on 87492 samples, validate on 12498 samples\n",
      "Epoch 1/5\n",
      "87492/87492 [==============================] - 4s 42us/step - loss: 1.6101 - acc: 0.5449 - val_loss: 1.6943 - val_acc: 0.5270\n",
      "Epoch 2/5\n",
      "87492/87492 [==============================] - 4s 40us/step - loss: 1.5651 - acc: 0.5585 - val_loss: 1.6766 - val_acc: 0.5332\n",
      "Epoch 3/5\n",
      "87492/87492 [==============================] - 4s 41us/step - loss: 1.5206 - acc: 0.5673 - val_loss: 1.6704 - val_acc: 0.5332\n",
      "Epoch 4/5\n",
      "87492/87492 [==============================] - 4s 46us/step - loss: 1.4815 - acc: 0.5756 - val_loss: 1.7014 - val_acc: 0.5279\n",
      "Epoch 5/5\n",
      "87492/87492 [==============================] - 4s 42us/step - loss: 1.4438 - acc: 0.5841 - val_loss: 1.6979 - val_acc: 0.5316\n"
     ]
    }
   ],
   "source": [
    "history = model.fit(X_train,\n",
    "                    y_train, \n",
    "                    epochs=5, \n",
    "                    batch_size=256, \n",
    "                    validation_data=(X_val, y_val),\n",
    "                    callbacks = callbacks)"
   ]
  },
  {
   "cell_type": "code",
   "execution_count": 37,
   "metadata": {},
   "outputs": [],
   "source": [
    "# model.save_weights(model_dir + '/100d-glove-embedding.h5')"
   ]
  },
  {
   "cell_type": "code",
   "execution_count": 29,
   "metadata": {},
   "outputs": [
    {
     "name": "stdout",
     "output_type": "stream",
     "text": [
      "Max Val Accuracy 0.5385661710451309 on Epoch 12\n"
     ]
    },
    {
     "data": {
      "image/png": "[encoded data removed]",
      "text/plain": [
       "<Figure size 1296x432 with 2 Axes>"
      ]
     },
     "metadata": {
      "needs_background": "light"
     },
     "output_type": "display_data"
    }
   ],
   "source": [
    "evaluate_nn(history)"
   ]
  },
  {
   "cell_type": "code",
   "execution_count": 30,
   "metadata": {
    "scrolled": true
   },
   "outputs": [
    {
     "name": "stdout",
     "output_type": "stream",
     "text": [
      "_________________________________________________________________\n",
      "Layer (type)                 Output Shape              Param #   \n",
      "=================================================================\n",
      "embedding_2 (Embedding)      (None, 60, 100)           1000000   \n",
      "_________________________________________________________________\n",
      "lstm_1 (LSTM)                (None, 20)                9680      \n",
      "_________________________________________________________________\n",
      "dense_3 (Dense)              (None, 128)               2688      \n",
      "_________________________________________________________________\n",
      "dense_4 (Dense)              (None, 31)                3999      \n",
      "=================================================================\n",
      "Total params: 1,016,367\n",
      "Trainable params: 1,016,367\n",
      "Non-trainable params: 0\n",
      "_________________________________________________________________\n",
      "Train on 87492 samples, validate on 12498 samples\n",
      "Epoch 1/20\n",
      "87492/87492 [==============================] - 19s 221us/step - loss: 2.6216 - acc: 0.3104 - val_loss: 2.3564 - val_acc: 0.3709\n",
      "Epoch 2/20\n",
      "87492/87492 [==============================] - 19s 213us/step - loss: 2.1505 - acc: 0.4122 - val_loss: 2.0748 - val_acc: 0.4251\n",
      "Epoch 3/20\n",
      "87492/87492 [==============================] - 19s 216us/step - loss: 1.8352 - acc: 0.4899 - val_loss: 1.8762 - val_acc: 0.4794\n",
      "Epoch 4/20\n",
      "87492/87492 [==============================] - 19s 216us/step - loss: 1.6585 - acc: 0.5387 - val_loss: 1.7983 - val_acc: 0.5079\n",
      "Epoch 5/20\n",
      "87492/87492 [==============================] - 19s 214us/step - loss: 1.5440 - acc: 0.5687 - val_loss: 1.7650 - val_acc: 0.5169\n",
      "Epoch 6/20\n",
      "87492/87492 [==============================] - 19s 214us/step - loss: 1.4546 - acc: 0.5947 - val_loss: 1.7499 - val_acc: 0.5241\n",
      "Epoch 7/20\n",
      "87492/87492 [==============================] - 19s 216us/step - loss: 1.3716 - acc: 0.6165 - val_loss: 1.7137 - val_acc: 0.5334\n",
      "Epoch 8/20\n",
      "87492/87492 [==============================] - 19s 213us/step - loss: 1.2924 - acc: 0.6384 - val_loss: 1.7046 - val_acc: 0.5444\n",
      "Epoch 9/20\n",
      "87492/87492 [==============================] - 19s 216us/step - loss: 1.2174 - acc: 0.6582 - val_loss: 1.7039 - val_acc: 0.5501\n",
      "Epoch 10/20\n",
      "87492/87492 [==============================] - 19s 215us/step - loss: 1.1456 - acc: 0.6785 - val_loss: 1.7049 - val_acc: 0.5456\n",
      "Epoch 11/20\n",
      "87492/87492 [==============================] - 19s 214us/step - loss: 1.0805 - acc: 0.6959 - val_loss: 1.7484 - val_acc: 0.5469\n",
      "Epoch 12/20\n",
      "87492/87492 [==============================] - 19s 214us/step - loss: 1.0188 - acc: 0.7130 - val_loss: 1.7683 - val_acc: 0.5470\n",
      "Epoch 13/20\n",
      "87492/87492 [==============================] - 19s 215us/step - loss: 0.9605 - acc: 0.7301 - val_loss: 1.8111 - val_acc: 0.5464\n",
      "Epoch 14/20\n",
      "87492/87492 [==============================] - 19s 214us/step - loss: 0.9033 - acc: 0.7478 - val_loss: 1.8445 - val_acc: 0.5431\n",
      "Epoch 15/20\n",
      "87492/87492 [==============================] - 19s 214us/step - loss: 0.8494 - acc: 0.7623 - val_loss: 1.9331 - val_acc: 0.5414\n",
      "Epoch 16/20\n",
      "87492/87492 [==============================] - 19s 214us/step - loss: 0.7966 - acc: 0.7782 - val_loss: 1.9904 - val_acc: 0.5380\n",
      "Epoch 17/20\n",
      "87492/87492 [==============================] - 19s 214us/step - loss: 0.7465 - acc: 0.7925 - val_loss: 2.0877 - val_acc: 0.5294\n",
      "Epoch 18/20\n",
      "87492/87492 [==============================] - 19s 213us/step - loss: 0.6990 - acc: 0.8062 - val_loss: 2.1413 - val_acc: 0.5315\n",
      "Epoch 19/20\n",
      "87492/87492 [==============================] - 19s 214us/step - loss: 0.6518 - acc: 0.8191 - val_loss: 2.2018 - val_acc: 0.5254\n",
      "Epoch 20/20\n",
      "87492/87492 [==============================] - 19s 214us/step - loss: 0.6066 - acc: 0.8335 - val_loss: 2.3223 - val_acc: 0.5200\n"
     ]
    }
   ],
   "source": [
    "model = Sequential()\n",
    "model.add(Embedding(max_dict_words, embedding_dim, input_length=max_seq_words))\n",
    "model.add(layers.LSTM(20))\n",
    "model.add(Dense(128, activation='relu'))\n",
    "model.add(Dense(num_labels, activation='softmax'))\n",
    "model.summary()\n",
    "\n",
    "model.compile(optimizer='rmsprop', loss='categorical_crossentropy', metrics=['acc'])\n",
    "\n",
    "history = model.fit(X_train,\n",
    "                    y_train, \n",
    "                    epochs=20, \n",
    "                    batch_size=256, \n",
    "                    validation_data=(X_val, y_val),\n",
    "                    callbacks = [EarlyStopping(monitor='acc', patience=1)])"
   ]
  },
  {
   "cell_type": "code",
   "execution_count": 31,
   "metadata": {},
   "outputs": [
    {
     "name": "stdout",
     "output_type": "stream",
     "text": [
      "Max Val Accuracy 0.5500880145305518 on Epoch 8\n"
     ]
    },
    {
     "data": {
      "image/png": "[encoded data removed]",
      "text/plain": [
       "<Figure size 1296x432 with 2 Axes>"
      ]
     },
     "metadata": {
      "needs_background": "light"
     },
     "output_type": "display_data"
    }
   ],
   "source": [
    "evaluate_nn(history)"
   ]
  },
  {
   "cell_type": "code",
   "execution_count": 32,
   "metadata": {
    "scrolled": true
   },
   "outputs": [
    {
     "name": "stdout",
     "output_type": "stream",
     "text": [
      "_________________________________________________________________\n",
      "Layer (type)                 Output Shape              Param #   \n",
      "=================================================================\n",
      "embedding_3 (Embedding)      (None, 60, 100)           1000000   \n",
      "_________________________________________________________________\n",
      "gru_1 (GRU)                  (None, 20)                7260      \n",
      "_________________________________________________________________\n",
      "dense_5 (Dense)              (None, 128)               2688      \n",
      "_________________________________________________________________\n",
      "dense_6 (Dense)              (None, 31)                3999      \n",
      "=================================================================\n",
      "Total params: 1,013,947\n",
      "Trainable params: 1,013,947\n",
      "Non-trainable params: 0\n",
      "_________________________________________________________________\n",
      "Train on 87492 samples, validate on 12498 samples\n",
      "Epoch 1/20\n",
      "87492/87492 [==============================] - 16s 181us/step - loss: 2.6838 - acc: 0.2950 - val_loss: 2.5334 - val_acc: 0.3454\n",
      "Epoch 2/20\n",
      "87492/87492 [==============================] - 15s 172us/step - loss: 2.3944 - acc: 0.3734 - val_loss: 2.3095 - val_acc: 0.3932\n",
      "Epoch 3/20\n",
      "87492/87492 [==============================] - 15s 169us/step - loss: 2.1295 - acc: 0.4242 - val_loss: 2.0869 - val_acc: 0.4353\n",
      "Epoch 4/20\n",
      "87492/87492 [==============================] - 15s 169us/step - loss: 1.8739 - acc: 0.4865 - val_loss: 1.8808 - val_acc: 0.4901\n",
      "Epoch 5/20\n",
      "87492/87492 [==============================] - 15s 169us/step - loss: 1.6266 - acc: 0.5526 - val_loss: 1.7253 - val_acc: 0.5281\n",
      "Epoch 6/20\n",
      "87492/87492 [==============================] - 15s 169us/step - loss: 1.4589 - acc: 0.5949 - val_loss: 1.6628 - val_acc: 0.5491\n",
      "Epoch 7/20\n",
      "87492/87492 [==============================] - 15s 169us/step - loss: 1.3553 - acc: 0.6244 - val_loss: 1.6273 - val_acc: 0.5572\n",
      "Epoch 8/20\n",
      "87492/87492 [==============================] - 15s 169us/step - loss: 1.2793 - acc: 0.6450 - val_loss: 1.6156 - val_acc: 0.5671\n",
      "Epoch 9/20\n",
      "87492/87492 [==============================] - 15s 169us/step - loss: 1.2156 - acc: 0.6622 - val_loss: 1.6175 - val_acc: 0.5623\n",
      "Epoch 10/20\n",
      "87492/87492 [==============================] - 15s 170us/step - loss: 1.1580 - acc: 0.6794 - val_loss: 1.6225 - val_acc: 0.5659\n",
      "Epoch 11/20\n",
      "87492/87492 [==============================] - 15s 169us/step - loss: 1.1030 - acc: 0.6942 - val_loss: 1.6458 - val_acc: 0.5656\n",
      "Epoch 12/20\n",
      "87492/87492 [==============================] - 15s 170us/step - loss: 1.0484 - acc: 0.7088 - val_loss: 1.6716 - val_acc: 0.5661\n",
      "Epoch 13/20\n",
      "87492/87492 [==============================] - 15s 168us/step - loss: 0.9949 - acc: 0.7223 - val_loss: 1.7041 - val_acc: 0.5570\n",
      "Epoch 14/20\n",
      "87492/87492 [==============================] - 15s 169us/step - loss: 0.9419 - acc: 0.7368 - val_loss: 1.7375 - val_acc: 0.5546\n",
      "Epoch 15/20\n",
      "87492/87492 [==============================] - 15s 169us/step - loss: 0.8881 - acc: 0.7525 - val_loss: 1.7883 - val_acc: 0.5523\n",
      "Epoch 16/20\n",
      "87492/87492 [==============================] - 15s 172us/step - loss: 0.8375 - acc: 0.7676 - val_loss: 1.8523 - val_acc: 0.5494\n",
      "Epoch 17/20\n",
      "87492/87492 [==============================] - 15s 176us/step - loss: 0.7883 - acc: 0.7820 - val_loss: 1.9112 - val_acc: 0.5450\n",
      "Epoch 18/20\n",
      "87492/87492 [==============================] - 15s 169us/step - loss: 0.7397 - acc: 0.7962 - val_loss: 1.9823 - val_acc: 0.5386\n",
      "Epoch 19/20\n",
      "87492/87492 [==============================] - 15s 169us/step - loss: 0.6938 - acc: 0.8099 - val_loss: 2.0680 - val_acc: 0.5362\n",
      "Epoch 20/20\n",
      "87492/87492 [==============================] - 15s 169us/step - loss: 0.6484 - acc: 0.8235 - val_loss: 2.1499 - val_acc: 0.5315\n",
      "Max Val Accuracy 0.5670507284980294 on Epoch 7\n"
     ]
    },
    {
     "data": {
      "image/png": "[encoded data removed]",
      "text/plain": [
       "<Figure size 1296x432 with 2 Axes>"
      ]
     },
     "metadata": {
      "needs_background": "light"
     },
     "output_type": "display_data"
    }
   ],
   "source": [
    "model = Sequential()\n",
    "model.add(Embedding(max_dict_words, embedding_dim, input_length=max_seq_words))\n",
    "model.add(layers.GRU(20))\n",
    "model.add(Dense(128, activation='relu'))\n",
    "model.add(Dense(num_labels, activation='softmax'))\n",
    "model.summary()\n",
    "\n",
    "model.compile(optimizer='rmsprop', loss='categorical_crossentropy', metrics=['acc'])\n",
    "\n",
    "history = model.fit(X_train,\n",
    "                    y_train, \n",
    "                    epochs=20, \n",
    "                    batch_size=256, \n",
    "                    validation_data=(X_val, y_val),\n",
    "                    callbacks = [EarlyStopping(monitor='acc', patience=1)])\n",
    "\n",
    "evaluate_nn(history)"
   ]
  },
  {
   "cell_type": "code",
   "execution_count": 33,
   "metadata": {
    "scrolled": true
   },
   "outputs": [
    {
     "name": "stdout",
     "output_type": "stream",
     "text": [
      "_________________________________________________________________\n",
      "Layer (type)                 Output Shape              Param #   \n",
      "=================================================================\n",
      "embedding_4 (Embedding)      (None, 60, 100)           1000000   \n",
      "_________________________________________________________________\n",
      "gru_2 (GRU)                  (None, 20)                7260      \n",
      "_________________________________________________________________\n",
      "dropout_2 (Dropout)          (None, 20)                0         \n",
      "_________________________________________________________________\n",
      "dense_7 (Dense)              (None, 128)               2688      \n",
      "_________________________________________________________________\n",
      "dense_8 (Dense)              (None, 31)                3999      \n",
      "=================================================================\n",
      "Total params: 1,013,947\n",
      "Trainable params: 1,013,947\n",
      "Non-trainable params: 0\n",
      "_________________________________________________________________\n",
      "Train on 87492 samples, validate on 12498 samples\n",
      "Epoch 1/20\n",
      "87492/87492 [==============================] - 15s 177us/step - loss: 2.6936 - acc: 0.2960 - val_loss: 2.5219 - val_acc: 0.3458\n",
      "Epoch 2/20\n",
      "87492/87492 [==============================] - 15s 169us/step - loss: 2.3898 - acc: 0.3717 - val_loss: 2.2803 - val_acc: 0.3946\n",
      "Epoch 3/20\n",
      "87492/87492 [==============================] - 15s 169us/step - loss: 2.1479 - acc: 0.4128 - val_loss: 2.1400 - val_acc: 0.4147\n",
      "Epoch 4/20\n",
      "87492/87492 [==============================] - 15s 169us/step - loss: 2.0091 - acc: 0.4454 - val_loss: 2.0485 - val_acc: 0.4474\n",
      "Epoch 5/20\n",
      "87492/87492 [==============================] - 15s 169us/step - loss: 1.8783 - acc: 0.4850 - val_loss: 1.9342 - val_acc: 0.4771\n",
      "Epoch 6/20\n",
      "87492/87492 [==============================] - 15s 169us/step - loss: 1.7295 - acc: 0.5255 - val_loss: 1.8177 - val_acc: 0.5032\n",
      "Epoch 7/20\n",
      "87492/87492 [==============================] - 15s 169us/step - loss: 1.5963 - acc: 0.5595 - val_loss: 1.7355 - val_acc: 0.5309\n",
      "Epoch 8/20\n",
      "87492/87492 [==============================] - 15s 169us/step - loss: 1.5072 - acc: 0.5822 - val_loss: 1.6972 - val_acc: 0.5389\n",
      "Epoch 9/20\n",
      "87492/87492 [==============================] - 15s 169us/step - loss: 1.4392 - acc: 0.6004 - val_loss: 1.6823 - val_acc: 0.5462\n",
      "Epoch 10/20\n",
      "87492/87492 [==============================] - 15s 169us/step - loss: 1.3845 - acc: 0.6142 - val_loss: 1.6819 - val_acc: 0.5487\n",
      "Epoch 11/20\n",
      "87492/87492 [==============================] - 15s 171us/step - loss: 1.3322 - acc: 0.6304 - val_loss: 1.6628 - val_acc: 0.5539\n",
      "Epoch 12/20\n",
      "87492/87492 [==============================] - 15s 169us/step - loss: 1.2885 - acc: 0.6426 - val_loss: 1.6860 - val_acc: 0.5554\n",
      "Epoch 13/20\n",
      "87492/87492 [==============================] - 15s 170us/step - loss: 1.2434 - acc: 0.6555 - val_loss: 1.6902 - val_acc: 0.5525\n",
      "Epoch 14/20\n",
      "63744/87492 [====================>.........] - ETA: 4s - loss: 1.1966 - acc: 0.6659"
     ]
    },
    {
     "ename": "KeyboardInterrupt",
     "evalue": "",
     "output_type": "error",
     "traceback": [
      "\u001b[0;31m---------------------------------------------------------------------------\u001b[0m",
      "\u001b[0;31mKeyboardInterrupt\u001b[0m                         Traceback (most recent call last)",
      "\u001b[0;32m<ipython-input-33-242275d7e86a>\u001b[0m in \u001b[0;36m<module>\u001b[0;34m\u001b[0m\n\u001b[1;32m     14\u001b[0m                     \u001b[0mbatch_size\u001b[0m\u001b[0;34m=\u001b[0m\u001b[0;36m256\u001b[0m\u001b[0;34m,\u001b[0m\u001b[0;34m\u001b[0m\u001b[0;34m\u001b[0m\u001b[0m\n\u001b[1;32m     15\u001b[0m                     \u001b[0mvalidation_data\u001b[0m\u001b[0;34m=\u001b[0m\u001b[0;34m(\u001b[0m\u001b[0mX_val\u001b[0m\u001b[0;34m,\u001b[0m \u001b[0my_val\u001b[0m\u001b[0;34m)\u001b[0m\u001b[0;34m,\u001b[0m\u001b[0;34m\u001b[0m\u001b[0;34m\u001b[0m\u001b[0m\n\u001b[0;32m---> 16\u001b[0;31m                     callbacks = [EarlyStopping(monitor='acc', patience=1)])\n\u001b[0m\u001b[1;32m     17\u001b[0m \u001b[0;34m\u001b[0m\u001b[0m\n\u001b[1;32m     18\u001b[0m \u001b[0mevaluate_nn\u001b[0m\u001b[0;34m(\u001b[0m\u001b[0mhistory\u001b[0m\u001b[0;34m)\u001b[0m\u001b[0;34m\u001b[0m\u001b[0;34m\u001b[0m\u001b[0m\n",
      "\u001b[0;32m~/anaconda3/envs/tfpy36/lib/python3.6/site-packages/keras/engine/training.py\u001b[0m in \u001b[0;36mfit\u001b[0;34m(self, x, y, batch_size, epochs, verbose, callbacks, validation_split, validation_data, shuffle, class_weight, sample_weight, initial_epoch, steps_per_epoch, validation_steps, **kwargs)\u001b[0m\n\u001b[1;32m   1037\u001b[0m                                         \u001b[0minitial_epoch\u001b[0m\u001b[0;34m=\u001b[0m\u001b[0minitial_epoch\u001b[0m\u001b[0;34m,\u001b[0m\u001b[0;34m\u001b[0m\u001b[0;34m\u001b[0m\u001b[0m\n\u001b[1;32m   1038\u001b[0m                                         \u001b[0msteps_per_epoch\u001b[0m\u001b[0;34m=\u001b[0m\u001b[0msteps_per_epoch\u001b[0m\u001b[0;34m,\u001b[0m\u001b[0;34m\u001b[0m\u001b[0;34m\u001b[0m\u001b[0m\n\u001b[0;32m-> 1039\u001b[0;31m                                         validation_steps=validation_steps)\n\u001b[0m\u001b[1;32m   1040\u001b[0m \u001b[0;34m\u001b[0m\u001b[0m\n\u001b[1;32m   1041\u001b[0m     def evaluate(self, x=None, y=None,\n",
      "\u001b[0;32m~/anaconda3/envs/tfpy36/lib/python3.6/site-packages/keras/engine/training_arrays.py\u001b[0m in \u001b[0;36mfit_loop\u001b[0;34m(model, f, ins, out_labels, batch_size, epochs, verbose, callbacks, val_f, val_ins, shuffle, callback_metrics, initial_epoch, steps_per_epoch, validation_steps)\u001b[0m\n\u001b[1;32m    197\u001b[0m                     \u001b[0mins_batch\u001b[0m\u001b[0;34m[\u001b[0m\u001b[0mi\u001b[0m\u001b[0;34m]\u001b[0m \u001b[0;34m=\u001b[0m \u001b[0mins_batch\u001b[0m\u001b[0;34m[\u001b[0m\u001b[0mi\u001b[0m\u001b[0;34m]\u001b[0m\u001b[0;34m.\u001b[0m\u001b[0mtoarray\u001b[0m\u001b[0;34m(\u001b[0m\u001b[0;34m)\u001b[0m\u001b[0;34m\u001b[0m\u001b[0;34m\u001b[0m\u001b[0m\n\u001b[1;32m    198\u001b[0m \u001b[0;34m\u001b[0m\u001b[0m\n\u001b[0;32m--> 199\u001b[0;31m                 \u001b[0mouts\u001b[0m \u001b[0;34m=\u001b[0m \u001b[0mf\u001b[0m\u001b[0;34m(\u001b[0m\u001b[0mins_batch\u001b[0m\u001b[0;34m)\u001b[0m\u001b[0;34m\u001b[0m\u001b[0;34m\u001b[0m\u001b[0m\n\u001b[0m\u001b[1;32m    200\u001b[0m                 \u001b[0mouts\u001b[0m \u001b[0;34m=\u001b[0m \u001b[0mto_list\u001b[0m\u001b[0;34m(\u001b[0m\u001b[0mouts\u001b[0m\u001b[0;34m)\u001b[0m\u001b[0;34m\u001b[0m\u001b[0;34m\u001b[0m\u001b[0m\n\u001b[1;32m    201\u001b[0m                 \u001b[0;32mfor\u001b[0m \u001b[0ml\u001b[0m\u001b[0;34m,\u001b[0m \u001b[0mo\u001b[0m \u001b[0;32min\u001b[0m \u001b[0mzip\u001b[0m\u001b[0;34m(\u001b[0m\u001b[0mout_labels\u001b[0m\u001b[0;34m,\u001b[0m \u001b[0mouts\u001b[0m\u001b[0;34m)\u001b[0m\u001b[0;34m:\u001b[0m\u001b[0;34m\u001b[0m\u001b[0;34m\u001b[0m\u001b[0m\n",
      "\u001b[0;32m~/anaconda3/envs/tfpy36/lib/python3.6/site-packages/keras/backend/tensorflow_backend.py\u001b[0m in \u001b[0;36m__call__\u001b[0;34m(self, inputs)\u001b[0m\n\u001b[1;32m   2713\u001b[0m                 \u001b[0;32mreturn\u001b[0m \u001b[0mself\u001b[0m\u001b[0;34m.\u001b[0m\u001b[0m_legacy_call\u001b[0m\u001b[0;34m(\u001b[0m\u001b[0minputs\u001b[0m\u001b[0;34m)\u001b[0m\u001b[0;34m\u001b[0m\u001b[0;34m\u001b[0m\u001b[0m\n\u001b[1;32m   2714\u001b[0m \u001b[0;34m\u001b[0m\u001b[0m\n\u001b[0;32m-> 2715\u001b[0;31m             \u001b[0;32mreturn\u001b[0m \u001b[0mself\u001b[0m\u001b[0;34m.\u001b[0m\u001b[0m_call\u001b[0m\u001b[0;34m(\u001b[0m\u001b[0minputs\u001b[0m\u001b[0;34m)\u001b[0m\u001b[0;34m\u001b[0m\u001b[0;34m\u001b[0m\u001b[0m\n\u001b[0m\u001b[1;32m   2716\u001b[0m         \u001b[0;32melse\u001b[0m\u001b[0;34m:\u001b[0m\u001b[0;34m\u001b[0m\u001b[0;34m\u001b[0m\u001b[0m\n\u001b[1;32m   2717\u001b[0m             \u001b[0;32mif\u001b[0m \u001b[0mpy_any\u001b[0m\u001b[0;34m(\u001b[0m\u001b[0mis_tensor\u001b[0m\u001b[0;34m(\u001b[0m\u001b[0mx\u001b[0m\u001b[0;34m)\u001b[0m \u001b[0;32mfor\u001b[0m \u001b[0mx\u001b[0m \u001b[0;32min\u001b[0m \u001b[0minputs\u001b[0m\u001b[0;34m)\u001b[0m\u001b[0;34m:\u001b[0m\u001b[0;34m\u001b[0m\u001b[0;34m\u001b[0m\u001b[0m\n",
      "\u001b[0;32m~/anaconda3/envs/tfpy36/lib/python3.6/site-packages/keras/backend/tensorflow_backend.py\u001b[0m in \u001b[0;36m_call\u001b[0;34m(self, inputs)\u001b[0m\n\u001b[1;32m   2673\u001b[0m             \u001b[0mfetched\u001b[0m \u001b[0;34m=\u001b[0m \u001b[0mself\u001b[0m\u001b[0;34m.\u001b[0m\u001b[0m_callable_fn\u001b[0m\u001b[0;34m(\u001b[0m\u001b[0;34m*\u001b[0m\u001b[0marray_vals\u001b[0m\u001b[0;34m,\u001b[0m \u001b[0mrun_metadata\u001b[0m\u001b[0;34m=\u001b[0m\u001b[0mself\u001b[0m\u001b[0;34m.\u001b[0m\u001b[0mrun_metadata\u001b[0m\u001b[0;34m)\u001b[0m\u001b[0;34m\u001b[0m\u001b[0;34m\u001b[0m\u001b[0m\n\u001b[1;32m   2674\u001b[0m         \u001b[0;32melse\u001b[0m\u001b[0;34m:\u001b[0m\u001b[0;34m\u001b[0m\u001b[0;34m\u001b[0m\u001b[0m\n\u001b[0;32m-> 2675\u001b[0;31m             \u001b[0mfetched\u001b[0m \u001b[0;34m=\u001b[0m \u001b[0mself\u001b[0m\u001b[0;34m.\u001b[0m\u001b[0m_callable_fn\u001b[0m\u001b[0;34m(\u001b[0m\u001b[0;34m*\u001b[0m\u001b[0marray_vals\u001b[0m\u001b[0;34m)\u001b[0m\u001b[0;34m\u001b[0m\u001b[0;34m\u001b[0m\u001b[0m\n\u001b[0m\u001b[1;32m   2676\u001b[0m         \u001b[0;32mreturn\u001b[0m \u001b[0mfetched\u001b[0m\u001b[0;34m[\u001b[0m\u001b[0;34m:\u001b[0m\u001b[0mlen\u001b[0m\u001b[0;34m(\u001b[0m\u001b[0mself\u001b[0m\u001b[0;34m.\u001b[0m\u001b[0moutputs\u001b[0m\u001b[0;34m)\u001b[0m\u001b[0;34m]\u001b[0m\u001b[0;34m\u001b[0m\u001b[0;34m\u001b[0m\u001b[0m\n\u001b[1;32m   2677\u001b[0m \u001b[0;34m\u001b[0m\u001b[0m\n",
      "\u001b[0;32m~/anaconda3/envs/tfpy36/lib/python3.6/site-packages/tensorflow/python/client/session.py\u001b[0m in \u001b[0;36m__call__\u001b[0;34m(self, *args, **kwargs)\u001b[0m\n\u001b[1;32m   1437\u001b[0m           ret = tf_session.TF_SessionRunCallable(\n\u001b[1;32m   1438\u001b[0m               \u001b[0mself\u001b[0m\u001b[0;34m.\u001b[0m\u001b[0m_session\u001b[0m\u001b[0;34m.\u001b[0m\u001b[0m_session\u001b[0m\u001b[0;34m,\u001b[0m \u001b[0mself\u001b[0m\u001b[0;34m.\u001b[0m\u001b[0m_handle\u001b[0m\u001b[0;34m,\u001b[0m \u001b[0margs\u001b[0m\u001b[0;34m,\u001b[0m \u001b[0mstatus\u001b[0m\u001b[0;34m,\u001b[0m\u001b[0;34m\u001b[0m\u001b[0;34m\u001b[0m\u001b[0m\n\u001b[0;32m-> 1439\u001b[0;31m               run_metadata_ptr)\n\u001b[0m\u001b[1;32m   1440\u001b[0m         \u001b[0;32mif\u001b[0m \u001b[0mrun_metadata\u001b[0m\u001b[0;34m:\u001b[0m\u001b[0;34m\u001b[0m\u001b[0;34m\u001b[0m\u001b[0m\n\u001b[1;32m   1441\u001b[0m           \u001b[0mproto_data\u001b[0m \u001b[0;34m=\u001b[0m \u001b[0mtf_session\u001b[0m\u001b[0;34m.\u001b[0m\u001b[0mTF_GetBuffer\u001b[0m\u001b[0;34m(\u001b[0m\u001b[0mrun_metadata_ptr\u001b[0m\u001b[0;34m)\u001b[0m\u001b[0;34m\u001b[0m\u001b[0;34m\u001b[0m\u001b[0m\n",
      "\u001b[0;31mKeyboardInterrupt\u001b[0m: "
     ]
    }
   ],
   "source": [
    "model = Sequential()\n",
    "model.add(Embedding(max_dict_words, embedding_dim, input_length=max_seq_words))\n",
    "model.add(layers.GRU(20))\n",
    "model.add(Dropout(0.25))\n",
    "model.add(Dense(128, activation='relu'))\n",
    "model.add(Dense(num_labels, activation='softmax'))\n",
    "model.summary()\n",
    "\n",
    "model.compile(optimizer='rmsprop', loss='categorical_crossentropy', metrics=['acc'])\n",
    "\n",
    "history = model.fit(X_train,\n",
    "                    y_train, \n",
    "                    epochs=20, \n",
    "                    batch_size=256, \n",
    "                    validation_data=(X_val, y_val),\n",
    "                    callbacks = [EarlyStopping(monitor='acc', patience=1)])\n",
    "\n",
    "evaluate_nn(history)"
   ]
  },
  {
   "cell_type": "code",
   "execution_count": null,
   "metadata": {},
   "outputs": [],
   "source": []
  }
 ],
 "metadata": {
  "kernelspec": {
   "display_name": "Python 3",
   "language": "python",
   "name": "python3"
  },
  "language_info": {
   "codemirror_mode": {
    "name": "ipython",
    "version": 3
   },
   "file_extension": ".py",
   "mimetype": "text/x-python",
   "name": "python",
   "nbconvert_exporter": "python",
   "pygments_lexer": "ipython3",
   "version": "3.6.7"
  }
 },
 "nbformat": 4,
 "nbformat_minor": 2
}
