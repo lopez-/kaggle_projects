{
 "cells": [
  {
   "cell_type": "code",
   "execution_count": 1,
   "metadata": {},
   "outputs": [
    {
     "name": "stderr",
     "output_type": "stream",
     "text": [
      "Using TensorFlow backend.\n"
     ]
    }
   ],
   "source": [
    "import pandas as pd\n",
    "from pandasql import sqldf\n",
    "import boto3\n",
    "import json\n",
    "import os\n",
    "# python -m spacy download en\n",
    "import spacy\n",
    "from spacy.lang.en.stop_words import STOP_WORDS\n",
    "from keras import models, layers\n",
    "# from keras.preprocessing.text import Tokenizer, text_to_word_sequence\n",
    "from sklearn.feature_extraction.text import TfidfVectorizer\n",
    "from sklearn.model_selection import train_test_split\n",
    "from sklearn.preprocessing import LabelEncoder\n",
    "# from sklearn.preprocessing import LabelBinarizer\n",
    "# import numpy as np\n",
    "from keras.utils import to_categorical\n",
    "from keras.models import Sequential\n",
    "from keras.layers import Dense, Embedding, Flatten, Conv1D, MaxPool1D, Dropout\n",
    "# from sklearn.metrics import confusion_matrix\n",
    "# import seaborn as sns\n",
    "import matplotlib.pyplot as plt\n",
    "import copy\n",
    "import numpy as np\n",
    "from keras.preprocessing.text import Tokenizer\n",
    "from keras.preprocessing.sequence import pad_sequences\n",
    "from keras.callbacks import EarlyStopping, TensorBoard\n",
    "%run '../extra_fns.ipynb'\n"
   ]
  },
  {
   "cell_type": "code",
   "execution_count": 2,
   "metadata": {},
   "outputs": [],
   "source": [
    "with open('../config.json') as json_data:\n",
    "    config = json.load(json_data)"
   ]
  },
  {
   "cell_type": "code",
   "execution_count": 3,
   "metadata": {},
   "outputs": [],
   "source": [
    "s3 = boto3.client(\n",
    "    's3',\n",
    "    aws_access_key_id=config['boto']['aws_access_key_id'],\n",
    "    aws_secret_access_key=config['boto']['aws_secret_access_key']\n",
    ")"
   ]
  },
  {
   "cell_type": "code",
   "execution_count": 4,
   "metadata": {},
   "outputs": [],
   "source": [
    "callbacks = [\n",
    "    EarlyStopping(monitor='acc', patience=1),\n",
    "    TensorBoard(log_dir=config['tensorboard_logs'])\n",
    "]"
   ]
  },
  {
   "cell_type": "code",
   "execution_count": 5,
   "metadata": {},
   "outputs": [
    {
     "name": "stdout",
     "output_type": "stream",
     "text": [
      "[Errno 17] File exists: 'trained_models'\n"
     ]
    }
   ],
   "source": [
    "model_dir = 'trained_models'\n",
    "try:\n",
    "    os.makedirs(model_dir)\n",
    "except Exception as e:\n",
    "    print(e)"
   ]
  },
  {
   "cell_type": "code",
   "execution_count": 6,
   "metadata": {},
   "outputs": [],
   "source": [
    "data_dir = 'data'\n",
    "embedding_dir = 'embeddings'\n",
    "if not os.path.exists(data_dir):\n",
    "    os.makedirs(data_dir)\n",
    "    \n",
    "src_file = data_dir + '/News_Category_Dataset.json'\n",
    "src_file_cleaned = data_dir + '/News_Clean.csv'\n",
    "\n",
    "# s3.upload_file(src_file, boto_config['buckets']['kaggle'], src_file)\n",
    "# s3.upload_file(src_file_cleaned, boto_config['buckets']['kaggle'], src_file_cleaned)\n",
    "\n",
    "# s3.download_file(boto_config['buckets']['kaggle'], src_file, src_file)\n",
    "# s3.download_file(boto_config['buckets']['kaggle'], src_file_cleaned, src_file_cleaned)"
   ]
  },
  {
   "cell_type": "code",
   "execution_count": 7,
   "metadata": {},
   "outputs": [],
   "source": [
    "df = pd.read_json(src_file, lines=True)\n",
    "# df = pd.read_csv(src_file_cleaned)\n",
    "# df = df[~df.clean_text.isnull()]"
   ]
  },
  {
   "cell_type": "code",
   "execution_count": 8,
   "metadata": {},
   "outputs": [
    {
     "data": {
      "text/html": [
       "<div>\n",
       "<style scoped>\n",
       "    .dataframe tbody tr th:only-of-type {\n",
       "        vertical-align: middle;\n",
       "    }\n",
       "\n",
       "    .dataframe tbody tr th {\n",
       "        vertical-align: top;\n",
       "    }\n",
       "\n",
       "    .dataframe thead th {\n",
       "        text-align: right;\n",
       "    }\n",
       "</style>\n",
       "<table border=\"1\" class=\"dataframe\">\n",
       "  <thead>\n",
       "    <tr style=\"text-align: right;\">\n",
       "      <th></th>\n",
       "      <th>authors</th>\n",
       "      <th>category</th>\n",
       "      <th>date</th>\n",
       "      <th>headline</th>\n",
       "      <th>link</th>\n",
       "      <th>short_description</th>\n",
       "    </tr>\n",
       "  </thead>\n",
       "  <tbody>\n",
       "    <tr>\n",
       "      <th>0</th>\n",
       "      <td>Melissa Jeltsen</td>\n",
       "      <td>CRIME</td>\n",
       "      <td>2018-05-26</td>\n",
       "      <td>There Were 2 Mass Shootings In Texas Last Week...</td>\n",
       "      <td>https://www.huffingtonpost.com/entry/texas-ama...</td>\n",
       "      <td>She left her husband. He killed their children...</td>\n",
       "    </tr>\n",
       "    <tr>\n",
       "      <th>1</th>\n",
       "      <td>Andy McDonald</td>\n",
       "      <td>ENTERTAINMENT</td>\n",
       "      <td>2018-05-26</td>\n",
       "      <td>Will Smith Joins Diplo And Nicky Jam For The 2...</td>\n",
       "      <td>https://www.huffingtonpost.com/entry/will-smit...</td>\n",
       "      <td>Of course it has a song.</td>\n",
       "    </tr>\n",
       "    <tr>\n",
       "      <th>2</th>\n",
       "      <td>Ron Dicker</td>\n",
       "      <td>ENTERTAINMENT</td>\n",
       "      <td>2018-05-26</td>\n",
       "      <td>Hugh Grant Marries For The First Time At Age 57</td>\n",
       "      <td>https://www.huffingtonpost.com/entry/hugh-gran...</td>\n",
       "      <td>The actor and his longtime girlfriend Anna Ebe...</td>\n",
       "    </tr>\n",
       "    <tr>\n",
       "      <th>3</th>\n",
       "      <td>Ron Dicker</td>\n",
       "      <td>ENTERTAINMENT</td>\n",
       "      <td>2018-05-26</td>\n",
       "      <td>Jim Carrey Blasts 'Castrato' Adam Schiff And D...</td>\n",
       "      <td>https://www.huffingtonpost.com/entry/jim-carre...</td>\n",
       "      <td>The actor gives Dems an ass-kicking for not fi...</td>\n",
       "    </tr>\n",
       "    <tr>\n",
       "      <th>4</th>\n",
       "      <td>Ron Dicker</td>\n",
       "      <td>ENTERTAINMENT</td>\n",
       "      <td>2018-05-26</td>\n",
       "      <td>Julianna Margulies Uses Donald Trump Poop Bags...</td>\n",
       "      <td>https://www.huffingtonpost.com/entry/julianna-...</td>\n",
       "      <td>The \"Dietland\" actress said using the bags is ...</td>\n",
       "    </tr>\n",
       "  </tbody>\n",
       "</table>\n",
       "</div>"
      ],
      "text/plain": [
       "           authors       category       date  \\\n",
       "0  Melissa Jeltsen          CRIME 2018-05-26   \n",
       "1    Andy McDonald  ENTERTAINMENT 2018-05-26   \n",
       "2       Ron Dicker  ENTERTAINMENT 2018-05-26   \n",
       "3       Ron Dicker  ENTERTAINMENT 2018-05-26   \n",
       "4       Ron Dicker  ENTERTAINMENT 2018-05-26   \n",
       "\n",
       "                                            headline  \\\n",
       "0  There Were 2 Mass Shootings In Texas Last Week...   \n",
       "1  Will Smith Joins Diplo And Nicky Jam For The 2...   \n",
       "2    Hugh Grant Marries For The First Time At Age 57   \n",
       "3  Jim Carrey Blasts 'Castrato' Adam Schiff And D...   \n",
       "4  Julianna Margulies Uses Donald Trump Poop Bags...   \n",
       "\n",
       "                                                link  \\\n",
       "0  https://www.huffingtonpost.com/entry/texas-ama...   \n",
       "1  https://www.huffingtonpost.com/entry/will-smit...   \n",
       "2  https://www.huffingtonpost.com/entry/hugh-gran...   \n",
       "3  https://www.huffingtonpost.com/entry/jim-carre...   \n",
       "4  https://www.huffingtonpost.com/entry/julianna-...   \n",
       "\n",
       "                                   short_description  \n",
       "0  She left her husband. He killed their children...  \n",
       "1                           Of course it has a song.  \n",
       "2  The actor and his longtime girlfriend Anna Ebe...  \n",
       "3  The actor gives Dems an ass-kicking for not fi...  \n",
       "4  The \"Dietland\" actress said using the bags is ...  "
      ]
     },
     "execution_count": 8,
     "metadata": {},
     "output_type": "execute_result"
    }
   ],
   "source": [
    "df.head()"
   ]
  },
  {
   "cell_type": "code",
   "execution_count": 9,
   "metadata": {},
   "outputs": [],
   "source": [
    "df['text'] = df['headline'] + ' ' + df['short_description']"
   ]
  },
  {
   "cell_type": "code",
   "execution_count": 10,
   "metadata": {},
   "outputs": [],
   "source": [
    "categories = np.array(df.category)"
   ]
  },
  {
   "cell_type": "code",
   "execution_count": 11,
   "metadata": {},
   "outputs": [],
   "source": [
    "lbler = LabelEncoder()"
   ]
  },
  {
   "cell_type": "code",
   "execution_count": 12,
   "metadata": {},
   "outputs": [],
   "source": [
    "labels = lbler.fit_transform(categories)"
   ]
  },
  {
   "cell_type": "markdown",
   "metadata": {},
   "source": [
    "# Tokenization"
   ]
  },
  {
   "cell_type": "code",
   "execution_count": 13,
   "metadata": {},
   "outputs": [],
   "source": [
    "max_dict_words = 10000\n",
    "max_seq_words = 60"
   ]
  },
  {
   "cell_type": "code",
   "execution_count": 14,
   "metadata": {},
   "outputs": [],
   "source": [
    "tokenizer = Tokenizer(num_words = max_dict_words)"
   ]
  },
  {
   "cell_type": "code",
   "execution_count": 15,
   "metadata": {},
   "outputs": [],
   "source": [
    "tokenizer.fit_on_texts(df['text'])\n",
    "\n",
    "sequences = tokenizer.texts_to_sequences(df['text'])\n",
    "\n",
    "data = pad_sequences(sequences, maxlen=max_seq_words)"
   ]
  },
  {
   "cell_type": "code",
   "execution_count": 16,
   "metadata": {},
   "outputs": [],
   "source": [
    "word_index = tokenizer.word_index"
   ]
  },
  {
   "cell_type": "code",
   "execution_count": 17,
   "metadata": {},
   "outputs": [],
   "source": [
    "indices = np.arange(data.shape[0])\n",
    "\n",
    "np.random.shuffle(indices)"
   ]
  },
  {
   "cell_type": "code",
   "execution_count": 18,
   "metadata": {},
   "outputs": [],
   "source": [
    "data = data[indices]\n",
    "labels = labels[indices]"
   ]
  },
  {
   "cell_type": "code",
   "execution_count": 19,
   "metadata": {},
   "outputs": [],
   "source": [
    "num_labels = len(set(labels))"
   ]
  },
  {
   "cell_type": "code",
   "execution_count": 20,
   "metadata": {},
   "outputs": [],
   "source": [
    "train_size = 0.7\n",
    "val_size = 0.1\n",
    "test_size = 1-train_size-val_size"
   ]
  },
  {
   "cell_type": "code",
   "execution_count": 21,
   "metadata": {},
   "outputs": [],
   "source": [
    "training_samples = int(data.shape[0]*train_size)\n",
    "val_samples = int(data.shape[0]*val_size)\n",
    "test_samples = data.shape[0]-training_samples-val_samples"
   ]
  },
  {
   "cell_type": "code",
   "execution_count": 22,
   "metadata": {},
   "outputs": [],
   "source": [
    "X_train = data[:training_samples]\n",
    "y_train = to_categorical(labels[:training_samples])\n",
    "\n",
    "X_val = data[training_samples:training_samples+val_samples]\n",
    "y_val = to_categorical(labels[training_samples:training_samples+val_samples])\n",
    "\n",
    "X_test = data[training_samples+val_samples:]\n",
    "y_test = to_categorical(labels[training_samples+val_samples:])"
   ]
  },
  {
   "cell_type": "markdown",
   "metadata": {},
   "source": [
    "# Using pretrained word embeddings"
   ]
  },
  {
   "cell_type": "markdown",
   "metadata": {},
   "source": [
    "## Glove\n",
    "https://nlp.stanford.edu/projects/glove/"
   ]
  },
  {
   "cell_type": "code",
   "execution_count": 23,
   "metadata": {},
   "outputs": [],
   "source": [
    "embedding_index = {}\n",
    "\n",
    "f = open(os.path.join(embedding_dir, 'glove.6B.100d.txt'))\n",
    "\n",
    "for line in f:\n",
    "    values = line.split()\n",
    "    word = values[0]\n",
    "    coefs = np.asarray(values[1:], dtype='float32')\n",
    "    embedding_index[word] = coefs\n",
    "    \n",
    "f.close()\n",
    "\n",
    "embedding_dim = 100\n",
    "\n",
    "embedding_matrix = np.zeros((max_dict_words, embedding_dim))\n",
    "for word, i in word_index.items():\n",
    "    if i < max_dict_words:\n",
    "        embedding_vector = embedding_index.get(word)\n",
    "        if embedding_vector is not None:\n",
    "            embedding_matrix[i] = embedding_vector "
   ]
  },
  {
   "cell_type": "code",
   "execution_count": 24,
   "metadata": {
    "scrolled": true
   },
   "outputs": [
    {
     "name": "stdout",
     "output_type": "stream",
     "text": [
      "_________________________________________________________________\n",
      "Layer (type)                 Output Shape              Param #   \n",
      "=================================================================\n",
      "embedding_1 (Embedding)      (None, 60, 100)           1000000   \n",
      "_________________________________________________________________\n",
      "conv1d_1 (Conv1D)            (None, 58, 128)           38528     \n",
      "_________________________________________________________________\n",
      "max_pooling1d_1 (MaxPooling1 (None, 29, 128)           0         \n",
      "_________________________________________________________________\n",
      "conv1d_2 (Conv1D)            (None, 27, 128)           49280     \n",
      "_________________________________________________________________\n",
      "max_pooling1d_2 (MaxPooling1 (None, 13, 128)           0         \n",
      "_________________________________________________________________\n",
      "conv1d_3 (Conv1D)            (None, 11, 128)           49280     \n",
      "_________________________________________________________________\n",
      "max_pooling1d_3 (MaxPooling1 (None, 5, 128)            0         \n",
      "_________________________________________________________________\n",
      "dropout_1 (Dropout)          (None, 5, 128)            0         \n",
      "_________________________________________________________________\n",
      "flatten_1 (Flatten)          (None, 640)               0         \n",
      "_________________________________________________________________\n",
      "dense_1 (Dense)              (None, 128)               82048     \n",
      "_________________________________________________________________\n",
      "dense_2 (Dense)              (None, 31)                3999      \n",
      "=================================================================\n",
      "Total params: 1,223,135\n",
      "Trainable params: 223,135\n",
      "Non-trainable params: 1,000,000\n",
      "_________________________________________________________________\n",
      "Train on 87492 samples, validate on 12498 samples\n",
      "Epoch 1/20\n",
      "87492/87492 [==============================] - 4s 49us/step - loss: 2.4014 - acc: 0.3581 - val_loss: 2.0703 - val_acc: 0.4326\n",
      "Epoch 2/20\n",
      "87492/87492 [==============================] - 3s 39us/step - loss: 1.9924 - acc: 0.4499 - val_loss: 1.8409 - val_acc: 0.4851\n",
      "Epoch 3/20\n",
      "87492/87492 [==============================] - 3s 38us/step - loss: 1.8447 - acc: 0.4867 - val_loss: 1.7639 - val_acc: 0.5082\n",
      "Epoch 4/20\n",
      "87492/87492 [==============================] - 3s 38us/step - loss: 1.7480 - acc: 0.5088 - val_loss: 1.7915 - val_acc: 0.4904\n",
      "Epoch 5/20\n",
      "87492/87492 [==============================] - 4s 41us/step - loss: 1.6765 - acc: 0.5274 - val_loss: 1.7039 - val_acc: 0.5241\n",
      "Epoch 6/20\n",
      "87492/87492 [==============================] - 4s 42us/step - loss: 1.6216 - acc: 0.5413 - val_loss: 1.6941 - val_acc: 0.5304\n",
      "Epoch 7/20\n",
      "87492/87492 [==============================] - 3s 40us/step - loss: 1.5708 - acc: 0.5533 - val_loss: 1.6877 - val_acc: 0.5258\n",
      "Epoch 8/20\n",
      "87492/87492 [==============================] - 4s 40us/step - loss: 1.5266 - acc: 0.5629 - val_loss: 1.7535 - val_acc: 0.5212\n",
      "Epoch 9/20\n",
      "87492/87492 [==============================] - 4s 41us/step - loss: 1.4872 - acc: 0.5726 - val_loss: 1.7365 - val_acc: 0.5322\n",
      "Epoch 10/20\n",
      "87492/87492 [==============================] - 4s 40us/step - loss: 1.4487 - acc: 0.5799 - val_loss: 1.6913 - val_acc: 0.5310\n",
      "Epoch 11/20\n",
      "87492/87492 [==============================] - 4s 41us/step - loss: 1.4181 - acc: 0.5880 - val_loss: 1.7495 - val_acc: 0.5287\n",
      "Epoch 12/20\n",
      "87492/87492 [==============================] - 4s 41us/step - loss: 1.3878 - acc: 0.5946 - val_loss: 1.7113 - val_acc: 0.5321\n",
      "Epoch 13/20\n",
      "87492/87492 [==============================] - 3s 40us/step - loss: 1.3589 - acc: 0.6031 - val_loss: 1.7611 - val_acc: 0.5317\n",
      "Epoch 14/20\n",
      "87492/87492 [==============================] - 4s 41us/step - loss: 1.3265 - acc: 0.6100 - val_loss: 1.7608 - val_acc: 0.5279\n",
      "Epoch 15/20\n",
      "87492/87492 [==============================] - 3s 39us/step - loss: 1.3016 - acc: 0.6156 - val_loss: 1.7818 - val_acc: 0.5310\n",
      "Epoch 16/20\n",
      "87492/87492 [==============================] - 3s 38us/step - loss: 1.2791 - acc: 0.6217 - val_loss: 1.7773 - val_acc: 0.5274\n",
      "Epoch 17/20\n",
      "87492/87492 [==============================] - 3s 39us/step - loss: 1.2555 - acc: 0.6259 - val_loss: 1.8825 - val_acc: 0.5237\n",
      "Epoch 18/20\n",
      "87492/87492 [==============================] - 3s 40us/step - loss: 1.2345 - acc: 0.6332 - val_loss: 1.8581 - val_acc: 0.5157\n",
      "Epoch 19/20\n",
      "87492/87492 [==============================] - 3s 39us/step - loss: 1.2190 - acc: 0.6359 - val_loss: 1.8971 - val_acc: 0.5274\n",
      "Epoch 20/20\n",
      "87492/87492 [==============================] - 3s 39us/step - loss: 1.1945 - acc: 0.6430 - val_loss: 1.9379 - val_acc: 0.5218\n",
      "Max Val Accuracy 0.5321651468431116 on Epoch 8\n"
     ]
    },
    {
     "data": {
      "image/png": "[encoded data removed]",
      "text/plain": [
       "<Figure size 1296x432 with 2 Axes>"
      ]
     },
     "metadata": {
      "needs_background": "light"
     },
     "output_type": "display_data"
    }
   ],
   "source": [
    "model = Sequential()\n",
    "model.add(Embedding(max_dict_words, embedding_dim, input_length=max_seq_words))\n",
    "model.add(Conv1D(128, 3, activation='relu'))\n",
    "model.add(MaxPool1D(2))\n",
    "model.add(Conv1D(128, 3, activation='relu'))\n",
    "model.add(MaxPool1D(2))\n",
    "model.add(Conv1D(128, 3, activation='relu'))\n",
    "model.add(MaxPool1D(2))\n",
    "model.add(Dropout(0.5))\n",
    "model.add(Flatten())\n",
    "model.add(Dense(128, activation='relu'))\n",
    "model.add(Dense(num_labels, activation='softmax'))\n",
    "\n",
    "model.layers[0].set_weights([embedding_matrix])\n",
    "model.layers[0].trainable = False\n",
    "\n",
    "model.compile(optimizer='rmsprop', loss='categorical_crossentropy', metrics=['acc'])\n",
    "\n",
    "model.summary()\n",
    "\n",
    "history = model.fit(X_train,\n",
    "                    y_train, \n",
    "                    epochs=20, \n",
    "                    batch_size=256, \n",
    "                    validation_data=(X_val, y_val),\n",
    "                    callbacks = callbacks)\n",
    "\n",
    "evaluate_nn(history)"
   ]
  },
  {
   "cell_type": "code",
   "execution_count": 25,
   "metadata": {
    "scrolled": true
   },
   "outputs": [
    {
     "name": "stdout",
     "output_type": "stream",
     "text": [
      "_________________________________________________________________\n",
      "Layer (type)                 Output Shape              Param #   \n",
      "=================================================================\n",
      "embedding_2 (Embedding)      (None, 60, 100)           1000000   \n",
      "_________________________________________________________________\n",
      "lstm_1 (LSTM)                (None, 20)                9680      \n",
      "_________________________________________________________________\n",
      "dense_3 (Dense)              (None, 128)               2688      \n",
      "_________________________________________________________________\n",
      "dense_4 (Dense)              (None, 31)                3999      \n",
      "=================================================================\n",
      "Total params: 1,016,367\n",
      "Trainable params: 16,367\n",
      "Non-trainable params: 1,000,000\n",
      "_________________________________________________________________\n",
      "Train on 87492 samples, validate on 12498 samples\n",
      "Epoch 1/20\n",
      "87492/87492 [==============================] - 18s 206us/step - loss: 2.4854 - acc: 0.3503 - val_loss: 2.1500 - val_acc: 0.4101\n",
      "Epoch 2/20\n",
      "87492/87492 [==============================] - 18s 200us/step - loss: 1.9834 - acc: 0.4499 - val_loss: 1.8747 - val_acc: 0.4736s: 1.9882 - acc:\n",
      "Epoch 3/20\n",
      "87492/87492 [==============================] - 18s 201us/step - loss: 1.8051 - acc: 0.4965 - val_loss: 1.7610 - val_acc: 0.5046\n",
      "Epoch 4/20\n",
      "87492/87492 [==============================] - 18s 202us/step - loss: 1.7152 - acc: 0.5184 - val_loss: 1.6887 - val_acc: 0.5224\n",
      "Epoch 5/20\n",
      "87492/87492 [==============================] - 18s 202us/step - loss: 1.6559 - acc: 0.5340 - val_loss: 1.6525 - val_acc: 0.5315\n",
      "Epoch 6/20\n",
      "87492/87492 [==============================] - 18s 204us/step - loss: 1.6138 - acc: 0.5431 - val_loss: 1.6239 - val_acc: 0.5370\n",
      "Epoch 7/20\n",
      "87492/87492 [==============================] - 18s 204us/step - loss: 1.5816 - acc: 0.5505 - val_loss: 1.6027 - val_acc: 0.5430\n",
      "Epoch 8/20\n",
      "87492/87492 [==============================] - 18s 202us/step - loss: 1.5552 - acc: 0.5580 - val_loss: 1.5813 - val_acc: 0.5491\n",
      "Epoch 9/20\n",
      "87492/87492 [==============================] - 18s 202us/step - loss: 1.5343 - acc: 0.5620 - val_loss: 1.5757 - val_acc: 0.5508\n",
      "Epoch 10/20\n",
      "87492/87492 [==============================] - 18s 203us/step - loss: 1.5144 - acc: 0.5665 - val_loss: 1.5573 - val_acc: 0.5538\n",
      "Epoch 11/20\n",
      "87492/87492 [==============================] - 17s 200us/step - loss: 1.4992 - acc: 0.5714 - val_loss: 1.5464 - val_acc: 0.5569\n",
      "Epoch 12/20\n",
      "87492/87492 [==============================] - 18s 200us/step - loss: 1.4860 - acc: 0.5737 - val_loss: 1.5466 - val_acc: 0.5562\n",
      "Epoch 13/20\n",
      "87492/87492 [==============================] - 18s 201us/step - loss: 1.4744 - acc: 0.5756 - val_loss: 1.5371 - val_acc: 0.5585\n",
      "Epoch 14/20\n",
      "87492/87492 [==============================] - 18s 200us/step - loss: 1.4644 - acc: 0.5789 - val_loss: 1.5297 - val_acc: 0.5611\n",
      "Epoch 15/20\n",
      "87492/87492 [==============================] - 18s 202us/step - loss: 1.4553 - acc: 0.5805 - val_loss: 1.5314 - val_acc: 0.5600\n",
      "Epoch 16/20\n",
      "87492/87492 [==============================] - 18s 202us/step - loss: 1.4465 - acc: 0.5829 - val_loss: 1.5236 - val_acc: 0.5631\n",
      "Epoch 17/20\n",
      "87492/87492 [==============================] - 18s 201us/step - loss: 1.4388 - acc: 0.5861 - val_loss: 1.5249 - val_acc: 0.5618\n",
      "Epoch 18/20\n",
      "87492/87492 [==============================] - 18s 205us/step - loss: 1.4327 - acc: 0.5861 - val_loss: 1.5114 - val_acc: 0.5662\n",
      "Max Val Accuracy 0.5661705872558139 on Epoch 17\n"
     ]
    },
    {
     "data": {
      "image/png": "[encoded data removed]",
      "text/plain": [
       "<Figure size 1296x432 with 2 Axes>"
      ]
     },
     "metadata": {
      "needs_background": "light"
     },
     "output_type": "display_data"
    }
   ],
   "source": [
    "model = Sequential()\n",
    "model.add(Embedding(max_dict_words, embedding_dim, input_length=max_seq_words))\n",
    "model.add(layers.LSTM(20))\n",
    "model.add(Dense(128, activation='relu'))\n",
    "model.add(Dense(num_labels, activation='softmax'))\n",
    "\n",
    "model.layers[0].set_weights([embedding_matrix])\n",
    "model.layers[0].trainable = False\n",
    "\n",
    "model.compile(optimizer='rmsprop', loss='categorical_crossentropy', metrics=['acc'])\n",
    "\n",
    "model.summary()\n",
    "\n",
    "history = model.fit(X_train,\n",
    "                    y_train, \n",
    "                    epochs=20, \n",
    "                    batch_size=256, \n",
    "                    validation_data=(X_val, y_val),\n",
    "                    callbacks = callbacks)\n",
    "\n",
    "evaluate_nn(history)"
   ]
  },
  {
   "cell_type": "code",
   "execution_count": 26,
   "metadata": {
    "scrolled": true
   },
   "outputs": [
    {
     "name": "stdout",
     "output_type": "stream",
     "text": [
      "_________________________________________________________________\n",
      "Layer (type)                 Output Shape              Param #   \n",
      "=================================================================\n",
      "embedding_3 (Embedding)      (None, 60, 100)           1000000   \n",
      "_________________________________________________________________\n",
      "gru_1 (GRU)                  (None, 20)                7260      \n",
      "_________________________________________________________________\n",
      "dense_5 (Dense)              (None, 128)               2688      \n",
      "_________________________________________________________________\n",
      "dense_6 (Dense)              (None, 31)                3999      \n",
      "=================================================================\n",
      "Total params: 1,013,947\n",
      "Trainable params: 13,947\n",
      "Non-trainable params: 1,000,000\n",
      "_________________________________________________________________\n",
      "Train on 87492 samples, validate on 12498 samples\n",
      "Epoch 1/20\n",
      "87492/87492 [==============================] - 14s 164us/step - loss: 2.4817 - acc: 0.3566 - val_loss: 2.1284 - val_acc: 0.4217\n",
      "Epoch 2/20\n",
      "87492/87492 [==============================] - 14s 160us/step - loss: 1.9543 - acc: 0.4611 - val_loss: 1.8321 - val_acc: 0.4871\n",
      "Epoch 3/20\n",
      "87492/87492 [==============================] - 14s 160us/step - loss: 1.7673 - acc: 0.5048 - val_loss: 1.7130 - val_acc: 0.5182\n",
      "Epoch 4/20\n",
      "87492/87492 [==============================] - 14s 160us/step - loss: 1.6803 - acc: 0.5265 - val_loss: 1.6578 - val_acc: 0.5331\n",
      "Epoch 5/20\n",
      "87492/87492 [==============================] - 14s 160us/step - loss: 1.6301 - acc: 0.5386 - val_loss: 1.6328 - val_acc: 0.5404\n",
      "Epoch 6/20\n",
      "87492/87492 [==============================] - 14s 161us/step - loss: 1.5956 - acc: 0.5474 - val_loss: 1.6111 - val_acc: 0.5441\n",
      "Epoch 7/20\n",
      "87492/87492 [==============================] - 14s 161us/step - loss: 1.5695 - acc: 0.5540 - val_loss: 1.5878 - val_acc: 0.5475\n",
      "Epoch 8/20\n",
      "87492/87492 [==============================] - 14s 161us/step - loss: 1.5483 - acc: 0.5601 - val_loss: 1.5741 - val_acc: 0.5526\n",
      "Epoch 9/20\n",
      "87492/87492 [==============================] - 14s 162us/step - loss: 1.5308 - acc: 0.5642 - val_loss: 1.5611 - val_acc: 0.5554\n",
      "Epoch 10/20\n",
      "87492/87492 [==============================] - 14s 160us/step - loss: 1.5147 - acc: 0.5677 - val_loss: 1.5566 - val_acc: 0.5579\n",
      "Epoch 11/20\n",
      "87492/87492 [==============================] - 14s 164us/step - loss: 1.5008 - acc: 0.5703 - val_loss: 1.5424 - val_acc: 0.5592\n",
      "Epoch 12/20\n",
      "87492/87492 [==============================] - 14s 165us/step - loss: 1.4882 - acc: 0.5740 - val_loss: 1.5396 - val_acc: 0.5604\n",
      "Epoch 13/20\n",
      "87492/87492 [==============================] - 14s 161us/step - loss: 1.4775 - acc: 0.5760 - val_loss: 1.5341 - val_acc: 0.5610\n",
      "Epoch 14/20\n",
      "87492/87492 [==============================] - 14s 162us/step - loss: 1.4677 - acc: 0.5779 - val_loss: 1.5250 - val_acc: 0.5661\n",
      "Epoch 15/20\n",
      "87492/87492 [==============================] - 14s 159us/step - loss: 1.4596 - acc: 0.5800 - val_loss: 1.5177 - val_acc: 0.5635\n",
      "Epoch 16/20\n",
      "87492/87492 [==============================] - 14s 161us/step - loss: 1.4509 - acc: 0.5815 - val_loss: 1.5150 - val_acc: 0.5649\n",
      "Epoch 17/20\n",
      "87492/87492 [==============================] - 14s 163us/step - loss: 1.4438 - acc: 0.5837 - val_loss: 1.5124 - val_acc: 0.5647\n",
      "Epoch 18/20\n",
      "87492/87492 [==============================] - 14s 164us/step - loss: 1.4371 - acc: 0.5848 - val_loss: 1.5158 - val_acc: 0.5641\n",
      "Epoch 19/20\n",
      "87492/87492 [==============================] - 14s 162us/step - loss: 1.4315 - acc: 0.5862 - val_loss: 1.5095 - val_acc: 0.5690\n",
      "Epoch 20/20\n",
      "87492/87492 [==============================] - 14s 161us/step - loss: 1.4256 - acc: 0.5872 - val_loss: 1.4975 - val_acc: 0.5729\n",
      "Max Val Accuracy 0.5728916626564883 on Epoch 19\n"
     ]
    },
    {
     "data": {
      "image/png": "[encoded data removed]",
      "text/plain": [
       "<Figure size 1296x432 with 2 Axes>"
      ]
     },
     "metadata": {
      "needs_background": "light"
     },
     "output_type": "display_data"
    }
   ],
   "source": [
    "model = Sequential()\n",
    "model.add(Embedding(max_dict_words, embedding_dim, input_length=max_seq_words))\n",
    "model.add(layers.GRU(20))\n",
    "model.add(Dense(128, activation='relu'))\n",
    "model.add(Dense(num_labels, activation='softmax'))\n",
    "\n",
    "model.layers[0].set_weights([embedding_matrix])\n",
    "model.layers[0].trainable = False\n",
    "\n",
    "model.compile(optimizer='rmsprop', loss='categorical_crossentropy', metrics=['acc'])\n",
    "\n",
    "model.summary()\n",
    "\n",
    "history = model.fit(X_train,\n",
    "                    y_train, \n",
    "                    epochs=20, \n",
    "                    batch_size=256, \n",
    "                    validation_data=(X_val, y_val),\n",
    "                    callbacks = callbacks)\n",
    "\n",
    "evaluate_nn(history)"
   ]
  },
  {
   "cell_type": "code",
   "execution_count": 27,
   "metadata": {
    "scrolled": true
   },
   "outputs": [
    {
     "name": "stdout",
     "output_type": "stream",
     "text": [
      "_________________________________________________________________\n",
      "Layer (type)                 Output Shape              Param #   \n",
      "=================================================================\n",
      "embedding_4 (Embedding)      (None, 60, 100)           1000000   \n",
      "_________________________________________________________________\n",
      "gru_2 (GRU)                  (None, 20)                7260      \n",
      "_________________________________________________________________\n",
      "dropout_2 (Dropout)          (None, 20)                0         \n",
      "_________________________________________________________________\n",
      "dense_7 (Dense)              (None, 128)               2688      \n",
      "_________________________________________________________________\n",
      "dense_8 (Dense)              (None, 31)                3999      \n",
      "=================================================================\n",
      "Total params: 1,013,947\n",
      "Trainable params: 13,947\n",
      "Non-trainable params: 1,000,000\n",
      "_________________________________________________________________\n",
      "Train on 87492 samples, validate on 12498 samples\n",
      "Epoch 1/20\n",
      "87492/87492 [==============================] - 15s 166us/step - loss: 2.5295 - acc: 0.3461 - val_loss: 2.1559 - val_acc: 0.4195\n",
      "Epoch 2/20\n",
      "87492/87492 [==============================] - 14s 159us/step - loss: 2.0700 - acc: 0.4387 - val_loss: 1.8795 - val_acc: 0.4728\n",
      "Epoch 3/20\n",
      "87492/87492 [==============================] - 14s 159us/step - loss: 1.9086 - acc: 0.4710 - val_loss: 1.7758 - val_acc: 0.4994\n",
      "Epoch 4/20\n",
      "87492/87492 [==============================] - 14s 159us/step - loss: 1.8377 - acc: 0.4869 - val_loss: 1.7157 - val_acc: 0.5160\n",
      "Epoch 5/20\n",
      "87492/87492 [==============================] - 14s 159us/step - loss: 1.7885 - acc: 0.5016 - val_loss: 1.6773 - val_acc: 0.5243\n",
      "Epoch 6/20\n",
      "87492/87492 [==============================] - 14s 161us/step - loss: 1.7562 - acc: 0.5080 - val_loss: 1.6463 - val_acc: 0.5354\n",
      "Epoch 7/20\n",
      "87492/87492 [==============================] - 14s 161us/step - loss: 1.7326 - acc: 0.5158 - val_loss: 1.6287 - val_acc: 0.5390\n",
      "Epoch 8/20\n",
      "87492/87492 [==============================] - 14s 160us/step - loss: 1.7129 - acc: 0.5194 - val_loss: 1.6171 - val_acc: 0.5424\n",
      "Epoch 9/20\n",
      "87492/87492 [==============================] - 15s 166us/step - loss: 1.6976 - acc: 0.5252 - val_loss: 1.6032 - val_acc: 0.5480\n",
      "Epoch 10/20\n",
      "87492/87492 [==============================] - 14s 165us/step - loss: 1.6839 - acc: 0.5280 - val_loss: 1.5879 - val_acc: 0.5514\n",
      "Epoch 11/20\n",
      "87492/87492 [==============================] - 14s 163us/step - loss: 1.6720 - acc: 0.5295 - val_loss: 1.5810 - val_acc: 0.5508\n",
      "Epoch 12/20\n",
      "87492/87492 [==============================] - 14s 163us/step - loss: 1.6624 - acc: 0.5328 - val_loss: 1.5724 - val_acc: 0.5516\n",
      "Epoch 13/20\n",
      "87492/87492 [==============================] - 14s 162us/step - loss: 1.6520 - acc: 0.5353 - val_loss: 1.5609 - val_acc: 0.5590\n",
      "Epoch 14/20\n",
      "87492/87492 [==============================] - 14s 162us/step - loss: 1.6437 - acc: 0.5373 - val_loss: 1.5659 - val_acc: 0.5533\n",
      "Epoch 15/20\n",
      "87492/87492 [==============================] - 14s 162us/step - loss: 1.6379 - acc: 0.5392 - val_loss: 1.5610 - val_acc: 0.5590\n",
      "Epoch 16/20\n",
      "87492/87492 [==============================] - 14s 162us/step - loss: 1.6330 - acc: 0.5399 - val_loss: 1.5557 - val_acc: 0.5609\n",
      "Epoch 17/20\n",
      "87492/87492 [==============================] - 14s 162us/step - loss: 1.6264 - acc: 0.5419 - val_loss: 1.5487 - val_acc: 0.5596\n",
      "Epoch 18/20\n",
      "87492/87492 [==============================] - 14s 162us/step - loss: 1.6218 - acc: 0.5423 - val_loss: 1.5411 - val_acc: 0.5644\n",
      "Epoch 19/20\n",
      "87492/87492 [==============================] - 14s 163us/step - loss: 1.6120 - acc: 0.5450 - val_loss: 1.5463 - val_acc: 0.5610\n",
      "Epoch 20/20\n",
      "87492/87492 [==============================] - 14s 163us/step - loss: 1.6102 - acc: 0.5438 - val_loss: 1.5356 - val_acc: 0.5645\n",
      "Max Val Accuracy 0.5644903189087891 on Epoch 19\n"
     ]
    },
    {
     "data": {
      "image/png": "[encoded data removed]",
      "text/plain": [
       "<Figure size 1296x432 with 2 Axes>"
      ]
     },
     "metadata": {
      "needs_background": "light"
     },
     "output_type": "display_data"
    }
   ],
   "source": [
    "model = Sequential()\n",
    "model.add(Embedding(max_dict_words, embedding_dim, input_length=max_seq_words))\n",
    "model.add(layers.GRU(20))\n",
    "model.add(Dropout(0.25))\n",
    "model.add(Dense(128, activation='relu'))\n",
    "model.add(Dense(num_labels, activation='softmax'))\n",
    "\n",
    "model.layers[0].set_weights([embedding_matrix])\n",
    "model.layers[0].trainable = False\n",
    "\n",
    "model.compile(optimizer='rmsprop', loss='categorical_crossentropy', metrics=['acc'])\n",
    "\n",
    "model.summary()\n",
    "\n",
    "history = model.fit(X_train,\n",
    "                    y_train, \n",
    "                    epochs=20, \n",
    "                    batch_size=256, \n",
    "                    validation_data=(X_val, y_val),\n",
    "                    callbacks = callbacks)\n",
    "\n",
    "evaluate_nn(history)"
   ]
  },
  {
   "cell_type": "code",
   "execution_count": null,
   "metadata": {},
   "outputs": [],
   "source": []
  }
 ],
 "metadata": {
  "kernelspec": {
   "display_name": "Python 3",
   "language": "python",
   "name": "python3"
  },
  "language_info": {
   "codemirror_mode": {
    "name": "ipython",
    "version": 3
   },
   "file_extension": ".py",
   "mimetype": "text/x-python",
   "name": "python",
   "nbconvert_exporter": "python",
   "pygments_lexer": "ipython3",
   "version": "3.6.7"
  }
 },
 "nbformat": 4,
 "nbformat_minor": 2
}
