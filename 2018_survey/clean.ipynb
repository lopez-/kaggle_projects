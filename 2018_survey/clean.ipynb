{
 "cells": [
  {
   "cell_type": "code",
   "execution_count": 11,
   "metadata": {
    "collapsed": true
   },
   "outputs": [],
   "source": [
    "import pandas as pd\n",
    "from pandasql import sqldf\n",
    "import numpy as np\n",
    "import matplotlib.pyplot as plt\n",
    "import seaborn as sns\n",
    "\n",
    "plt.style.use('fivethirtyeight')\n",
    "%matplotlib inline"
   ]
  },
  {
   "cell_type": "code",
   "execution_count": 2,
   "metadata": {
    "collapsed": true
   },
   "outputs": [],
   "source": [
    "data_dir = 'kaggle-survey-2018/'"
   ]
  },
  {
   "cell_type": "code",
   "execution_count": 3,
   "metadata": {
    "collapsed": true
   },
   "outputs": [],
   "source": [
    "multiple_choice = pd.read_csv(data_dir + 'multipleChoiceResponses.csv', low_memory=False)"
   ]
  },
  {
   "cell_type": "code",
   "execution_count": 4,
   "metadata": {
    "collapsed": true
   },
   "outputs": [],
   "source": [
    "def convert_salary(salary):\n",
    "\n",
    "    if salary == '500,000+':\n",
    "        return 500000\n",
    "    else:\n",
    "        try:\n",
    "            a, b = salary.replace(',','').split('-')\n",
    "            avg = (int(a)*1000+int(b))/2\n",
    "            return avg\n",
    "        except:\n",
    "            return None"
   ]
  },
  {
   "cell_type": "code",
   "execution_count": 5,
   "metadata": {
    "collapsed": true
   },
   "outputs": [],
   "source": [
    "def convert_xp(xp, return_type):\n",
    "    if xp == '30 +':\n",
    "        xp = 30\n",
    "    elif xp == '40+ years':\n",
    "        xp = 40\n",
    "    elif xp == '< 1 year':\n",
    "        xp = 0.5\n",
    "    else:\n",
    "        try:\n",
    "            a, b = xp.replace(' years', '').split('-')\n",
    "            xp = (int(a)+int(b))/2\n",
    "        except:\n",
    "            return None\n",
    "        \n",
    "    if return_type == 'years':\n",
    "        return xp\n",
    "    elif return_type == 'seniority level':\n",
    "        if xp < 3:\n",
    "            return 0\n",
    "        elif xp < 6:\n",
    "            return 1\n",
    "        else:\n",
    "            return 2\n",
    "    else:\n",
    "        return None   "
   ]
  },
  {
   "cell_type": "code",
   "execution_count": 6,
   "metadata": {
    "collapsed": true
   },
   "outputs": [],
   "source": [
    "def convert_age(age):\n",
    "    if age == '80+':\n",
    "        return 80\n",
    "    else:\n",
    "        try:\n",
    "            a, b = age.split('-')\n",
    "            return (int(a)+int(b))/2\n",
    "        except:\n",
    "            return None"
   ]
  },
  {
   "cell_type": "code",
   "execution_count": 7,
   "metadata": {
    "collapsed": true
   },
   "outputs": [],
   "source": [
    "df = pd.DataFrame()\n",
    "df['gender'] = multiple_choice.Q1\n",
    "df['current_role_xp'] = multiple_choice.Q8.apply(convert_xp, args = ('years',))\n",
    "df['coding_xp'] = multiple_choice.Q24.apply(convert_xp, args = ('years',))\n",
    "df['ml_xp'] = multiple_choice.Q25.apply(convert_xp, args = ('years',))\n",
    "df['current_role_xp_level'] = multiple_choice.Q8.apply(convert_xp, args = ('seniority level',))\n",
    "df['coding_xp_level'] = multiple_choice.Q24.apply(convert_xp, args = ('seniority level',))\n",
    "df['ml_xp_level'] = multiple_choice.Q25.apply(convert_xp, args = ('seniority level',))\n",
    "df['income'] = multiple_choice.Q9.apply(convert_salary)\n",
    "df['geography'] = multiple_choice.Q3\n",
    "df['original_age'] = multiple_choice.Q2\n",
    "df['age'] = multiple_choice.Q2.apply(convert_age)\n",
    "\n",
    "df = df[df.gender.isin(['Male', 'Female'])]"
   ]
  },
  {
   "cell_type": "code",
   "execution_count": 8,
   "metadata": {},
   "outputs": [],
   "source": [
    "df_plot = df.groupby(by=['gender','age']).agg({'income':['mean', 'count']})\n",
    "df_plot.columns = ['_'.join(col).strip() for col in df_plot.columns.values]\n",
    "df_plot.reset_index(inplace=True)\n",
    "\n",
    "df_plot = sqldf(\"\"\"\n",
    "with fl as (\n",
    "    select *\n",
    "    from df_plot\n",
    "    where gender = 'Female'\n",
    "    and income_count >= 50\n",
    ")\n",
    ", ml as (\n",
    "    select *\n",
    "    from df_plot\n",
    "    where gender = 'Male'\n",
    "    and income_count >= 50\n",
    ")\n",
    ", ages as (\n",
    "    select distinct fl.age\n",
    "    from fl\n",
    "    join ml on fl.age = ml.age\n",
    ")\n",
    "select *\n",
    "from fl\n",
    "where age in (select * from ages)\n",
    "UNION ALL\n",
    "select *\n",
    "from ml\n",
    "where age in (select * from ages)\n",
    "\"\"\")"
   ]
  },
  {
   "cell_type": "code",
   "execution_count": 12,
   "metadata": {},
   "outputs": [
    {
     "data": {
      "image/png": "[encoded data removed]",
      "text/plain": [
       "<matplotlib.figure.Figure at 0x1aa0b68048>"
      ]
     },
     "metadata": {},
     "output_type": "display_data"
    }
   ],
   "source": [
    "sns.lineplot(x = 'age', y='income_mean', hue='gender', data=df_plot)\n",
    "plt.show()"
   ]
  },
  {
   "cell_type": "code",
   "execution_count": null,
   "metadata": {
    "collapsed": true
   },
   "outputs": [],
   "source": []
  }
 ],
 "metadata": {
  "kernelspec": {
   "display_name": "Python 3",
   "language": "python",
   "name": "python3"
  },
  "language_info": {
   "codemirror_mode": {
    "name": "ipython",
    "version": 3
   },
   "file_extension": ".py",
   "mimetype": "text/x-python",
   "name": "python",
   "nbconvert_exporter": "python",
   "pygments_lexer": "ipython3",
   "version": "3.6.3"
  }
 },
 "nbformat": 4,
 "nbformat_minor": 2
}
