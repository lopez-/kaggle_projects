{
 "cells": [
  {
   "cell_type": "code",
   "execution_count": 10,
   "metadata": {},
   "outputs": [],
   "source": [
    "import pandas as pd\n",
    "import numpy as np\n",
    "from pandasql import sqldf\n",
    "import boto3\n",
    "import json\n",
    "import os\n",
    "from keras.callbacks import EarlyStopping, ModelCheckpoint, TensorBoard\n",
    "from keras import models, layers\n",
    "from sklearn.model_selection import train_test_split\n",
    "from keras.preprocessing.text import Tokenizer\n",
    "from keras.preprocessing.sequence import pad_sequences\n",
    "# python -m spacy download en\n",
    "import spacy\n",
    "from spacy.lang.en.stop_words import STOP_WORDS\n",
    "from sklearn.metrics import confusion_matrix, f1_score, precision_score, recall_score\n",
    "\n",
    "# %run '../extra_fns.ipynb'"
   ]
  },
  {
   "cell_type": "code",
   "execution_count": 11,
   "metadata": {},
   "outputs": [],
   "source": [
    "with open('../config.json') as json_data:\n",
    "    config = json.load(json_data)"
   ]
  },
  {
   "cell_type": "code",
   "execution_count": 12,
   "metadata": {},
   "outputs": [],
   "source": [
    "s3 = boto3.client(\n",
    "    's3',\n",
    "    aws_access_key_id=config['boto']['aws_access_key_id'],\n",
    "    aws_secret_access_key=config['boto']['aws_secret_access_key']\n",
    ")"
   ]
  },
  {
   "cell_type": "code",
   "execution_count": 13,
   "metadata": {},
   "outputs": [
    {
     "name": "stdout",
     "output_type": "stream",
     "text": [
      "[Errno 17] File exists: 'trained_models'\n"
     ]
    }
   ],
   "source": [
    "model_dir = 'trained_models'\n",
    "try:\n",
    "    os.makedirs(model_dir)\n",
    "except Exception as e:\n",
    "    print(e)"
   ]
  },
  {
   "cell_type": "code",
   "execution_count": 14,
   "metadata": {},
   "outputs": [],
   "source": [
    "data_dir = 'data'\n",
    "if not os.path.exists(data_dir):\n",
    "    os.makedirs(data_dir)\n",
    "    \n",
    "train_file = data_dir + '/train.csv'\n",
    "test_file = data_dir + '/test.csv'"
   ]
  },
  {
   "cell_type": "code",
   "execution_count": 15,
   "metadata": {},
   "outputs": [],
   "source": [
    "# s3.upload_file(train_file, config['boto']['buckets']['kaggle'], train_file)\n",
    "# s3.upload_file(src_file_cleaned, boto_config['buckets']['kaggle'], src_file_cleaned)\n",
    "\n",
    "# s3.download_file(boto_config['buckets']['kaggle'], src_file, src_file)\n",
    "# s3.download_file(boto_config['buckets']['kaggle'], src_file_cleaned, src_file_cleaned)"
   ]
  },
  {
   "cell_type": "code",
   "execution_count": 16,
   "metadata": {},
   "outputs": [],
   "source": [
    "train = pd.read_csv(train_file)\n",
    "test = pd.read_csv(test_file)"
   ]
  },
  {
   "cell_type": "code",
   "execution_count": 17,
   "metadata": {},
   "outputs": [
    {
     "name": "stdout",
     "output_type": "stream",
     "text": [
      "% of positive class: 6.187017751787352\n"
     ]
    }
   ],
   "source": [
    "print('% of positive class: {0}'.format(train.target.sum()/train.shape[0]*100))"
   ]
  },
  {
   "cell_type": "code",
   "execution_count": 18,
   "metadata": {},
   "outputs": [],
   "source": [
    "train['question_length'] = train.question_text.str.len()"
   ]
  },
  {
   "cell_type": "markdown",
   "metadata": {},
   "source": [
    "# Preprocess data (spacy)"
   ]
  },
  {
   "cell_type": "code",
   "execution_count": 19,
   "metadata": {
    "scrolled": true
   },
   "outputs": [],
   "source": [
    "# # clean up text\n",
    "# nlp = spacy.load('en')\n",
    "\n",
    "# def token_filter(token):\n",
    "#     return not (token.is_punct | token.is_space | token.is_stop)\n",
    "\n",
    "# filtered_tokens = []\n",
    "# for doc in nlp.pipe(train.question_text.tolist()):\n",
    "#     tokens = [token.text for token in doc if token_filter(token) and token.text not in STOP_WORDS]\n",
    "#     filtered_tokens.append(' '.join(tokens))\n",
    "# # data['clean_text'] = filtered_tokens\n",
    "\n",
    "# # data.to_csv(src_file_cleaned, index=False)"
   ]
  },
  {
   "cell_type": "markdown",
   "metadata": {},
   "source": [
    "# Split data"
   ]
  },
  {
   "cell_type": "code",
   "execution_count": 20,
   "metadata": {},
   "outputs": [
    {
     "data": {
      "text/plain": [
       "count    1.306122e+06\n",
       "mean     7.067884e+01\n",
       "std      3.878428e+01\n",
       "min      1.000000e+00\n",
       "25%      4.500000e+01\n",
       "50%      6.000000e+01\n",
       "75%      8.500000e+01\n",
       "max      1.017000e+03\n",
       "Name: question_length, dtype: float64"
      ]
     },
     "execution_count": 20,
     "metadata": {},
     "output_type": "execute_result"
    }
   ],
   "source": [
    "train.question_length.describe()"
   ]
  },
  {
   "cell_type": "code",
   "execution_count": 21,
   "metadata": {},
   "outputs": [],
   "source": [
    "seq_maxlen = 50\n",
    "train = train[train.question_length<=seq_maxlen]"
   ]
  },
  {
   "cell_type": "code",
   "execution_count": 22,
   "metadata": {},
   "outputs": [],
   "source": [
    "X_train, X_test, y_train, y_test = train_test_split(np.array(train.question_text), \n",
    "                                                    np.array(train.target), \n",
    "                                                    test_size=0.1, \n",
    "                                                    random_state=1, \n",
    "                                                    stratify=train.target)"
   ]
  },
  {
   "cell_type": "markdown",
   "metadata": {},
   "source": [
    "# Undersample"
   ]
  },
  {
   "cell_type": "code",
   "execution_count": 23,
   "metadata": {},
   "outputs": [],
   "source": [
    "# ix_pos = np.where(y_train==1)[0]\n",
    "# ix_neg = np.where(y_train==0)[0]"
   ]
  },
  {
   "cell_type": "code",
   "execution_count": 24,
   "metadata": {},
   "outputs": [],
   "source": [
    "# us_rate = 0.3\n",
    "# np.random.shuffle(ix_neg)\n",
    "# ix_neg = ix_neg[0:int((1-us_rate)*ix_neg.shape[0])]"
   ]
  },
  {
   "cell_type": "code",
   "execution_count": 25,
   "metadata": {},
   "outputs": [],
   "source": [
    "# ix = np.append(ix_pos, ix_neg)\n",
    "# np.random.shuffle(ix)"
   ]
  },
  {
   "cell_type": "code",
   "execution_count": 26,
   "metadata": {},
   "outputs": [],
   "source": [
    "# y_train = y_train[ix]\n",
    "# X_train = X_train[ix]"
   ]
  },
  {
   "cell_type": "markdown",
   "metadata": {},
   "source": [
    "# Sample Weight"
   ]
  },
  {
   "cell_type": "code",
   "execution_count": 27,
   "metadata": {},
   "outputs": [],
   "source": [
    "from sklearn.utils import class_weight\n",
    "list_classes = [0,1]\n",
    "sample_weights = class_weight.compute_sample_weight('balanced', y_train)"
   ]
  },
  {
   "cell_type": "code",
   "execution_count": 28,
   "metadata": {},
   "outputs": [
    {
     "data": {
      "text/plain": [
       "array([ 0.51940605,  0.51940605,  0.51940605,  0.51940605,  0.51940605,\n",
       "        0.51940605,  0.51940605,  0.51940605,  0.51940605,  0.51940605,\n",
       "        0.51940605,  0.51940605,  0.51940605,  0.51940605, 13.38257724])"
      ]
     },
     "execution_count": 28,
     "metadata": {},
     "output_type": "execute_result"
    }
   ],
   "source": [
    "sample_weights[0:15]"
   ]
  },
  {
   "cell_type": "code",
   "execution_count": 29,
   "metadata": {},
   "outputs": [],
   "source": [
    "pos_perc = round(y_train.sum()/y_train.shape[0], 2)"
   ]
  },
  {
   "cell_type": "code",
   "execution_count": 30,
   "metadata": {},
   "outputs": [],
   "source": [
    "weights = {0:(1-pos_perc), 1:pos_perc}"
   ]
  },
  {
   "cell_type": "markdown",
   "metadata": {},
   "source": [
    "# Sequentialize words"
   ]
  },
  {
   "cell_type": "code",
   "execution_count": 31,
   "metadata": {},
   "outputs": [],
   "source": [
    "vocab_maxlen = 15000\n",
    "tk = Tokenizer(num_words=vocab_maxlen)"
   ]
  },
  {
   "cell_type": "code",
   "execution_count": 32,
   "metadata": {},
   "outputs": [],
   "source": [
    "tk.fit_on_texts(X_train)"
   ]
  },
  {
   "cell_type": "code",
   "execution_count": 33,
   "metadata": {},
   "outputs": [],
   "source": [
    "X_train = tk.texts_to_sequences(X_train)\n",
    "X_test = tk.texts_to_sequences(X_test)"
   ]
  },
  {
   "cell_type": "code",
   "execution_count": 34,
   "metadata": {},
   "outputs": [],
   "source": [
    "X_train = pad_sequences(X_train, maxlen=seq_maxlen)\n",
    "X_test = pad_sequences(X_test, maxlen=seq_maxlen)"
   ]
  },
  {
   "cell_type": "markdown",
   "metadata": {},
   "source": [
    "# Training"
   ]
  },
  {
   "cell_type": "code",
   "execution_count": 35,
   "metadata": {},
   "outputs": [],
   "source": [
    "callbacks = [\n",
    "    EarlyStopping(monitor='val_loss', patience=1),\n",
    "    ModelCheckpoint(filepath=model_dir + '/basic_model.h5', monitor='val_loss', save_best_only=True)\n",
    "]"
   ]
  },
  {
   "cell_type": "code",
   "execution_count": 36,
   "metadata": {
    "scrolled": true
   },
   "outputs": [
    {
     "name": "stdout",
     "output_type": "stream",
     "text": [
      "_________________________________________________________________\n",
      "Layer (type)                 Output Shape              Param #   \n",
      "=================================================================\n",
      "embedding_1 (Embedding)      (None, 50, 50)            750000    \n",
      "_________________________________________________________________\n",
      "flatten_1 (Flatten)          (None, 2500)              0         \n",
      "_________________________________________________________________\n",
      "dense_1 (Dense)              (None, 60)                150060    \n",
      "_________________________________________________________________\n",
      "dense_2 (Dense)              (None, 30)                1830      \n",
      "_________________________________________________________________\n",
      "dropout_1 (Dropout)          (None, 30)                0         \n",
      "_________________________________________________________________\n",
      "dense_3 (Dense)              (None, 1)                 31        \n",
      "=================================================================\n",
      "Total params: 901,921\n",
      "Trainable params: 901,921\n",
      "Non-trainable params: 0\n",
      "_________________________________________________________________\n"
     ]
    }
   ],
   "source": [
    "embedding_dim = 50\n",
    "model = models.Sequential()\n",
    "\n",
    "model.add(layers.Embedding(vocab_maxlen, embedding_dim, input_length=seq_maxlen))\n",
    "model.add(layers.Flatten())\n",
    "model.add(layers.Dense(60, activation='relu'))\n",
    "model.add(layers.Dense(30, activation='relu'))\n",
    "model.add(layers.Dropout(0.2))\n",
    "model.add(layers.Dense(1, activation='sigmoid'))\n",
    "\n",
    "model.compile(optimizer='rmsprop', loss='binary_crossentropy', metrics=['acc'])\n",
    "\n",
    "model.summary()"
   ]
  },
  {
   "cell_type": "code",
   "execution_count": 37,
   "metadata": {
    "scrolled": false
   },
   "outputs": [
    {
     "name": "stdout",
     "output_type": "stream",
     "text": [
      "Train on 369567 samples, validate on 41064 samples\n",
      "Epoch 1/10\n",
      "369567/369567 [==============================] - 7s 19us/step - loss: 0.4034 - acc: 0.8417 - val_loss: 0.3534 - val_acc: 0.8878\n",
      "Epoch 2/10\n",
      "369567/369567 [==============================] - 7s 18us/step - loss: 0.3429 - acc: 0.8694 - val_loss: 0.3482 - val_acc: 0.8752\n",
      "Epoch 3/10\n",
      "369567/369567 [==============================] - 7s 18us/step - loss: 0.3293 - acc: 0.8754 - val_loss: 0.3971 - val_acc: 0.7567\n"
     ]
    }
   ],
   "source": [
    "history = model.fit(X_train, \n",
    "                    y_train, \n",
    "                    epochs=10, \n",
    "                    batch_size=512,\n",
    "                    sample_weight=sample_weights,\n",
    "                    validation_split=0.10, \n",
    "                    callbacks=callbacks)"
   ]
  },
  {
   "cell_type": "code",
   "execution_count": 38,
   "metadata": {},
   "outputs": [
    {
     "name": "stdout",
     "output_type": "stream",
     "text": [
      "45626/45626 [==============================] - 1s 18us/step\n"
     ]
    },
    {
     "data": {
      "text/plain": [
       "[0.57563886898819, 0.7596984175741555]"
      ]
     },
     "execution_count": 38,
     "metadata": {},
     "output_type": "execute_result"
    }
   ],
   "source": [
    "model.evaluate(X_test, y_test)"
   ]
  },
  {
   "cell_type": "code",
   "execution_count": null,
   "metadata": {},
   "outputs": [],
   "source": []
  },
  {
   "cell_type": "code",
   "execution_count": null,
   "metadata": {},
   "outputs": [],
   "source": []
  },
  {
   "cell_type": "code",
   "execution_count": 40,
   "metadata": {},
   "outputs": [
    {
     "name": "stdout",
     "output_type": "stream",
     "text": [
      "_________________________________________________________________\n",
      "Layer (type)                 Output Shape              Param #   \n",
      "=================================================================\n",
      "embedding_3 (Embedding)      (None, 50, 50)            750000    \n",
      "_________________________________________________________________\n",
      "lstm_2 (LSTM)                (None, 32)                10624     \n",
      "_________________________________________________________________\n",
      "dense_7 (Dense)              (None, 60)                1980      \n",
      "_________________________________________________________________\n",
      "dense_8 (Dense)              (None, 30)                1830      \n",
      "_________________________________________________________________\n",
      "dropout_3 (Dropout)          (None, 30)                0         \n",
      "_________________________________________________________________\n",
      "dense_9 (Dense)              (None, 1)                 31        \n",
      "=================================================================\n",
      "Total params: 764,465\n",
      "Trainable params: 764,465\n",
      "Non-trainable params: 0\n",
      "_________________________________________________________________\n"
     ]
    }
   ],
   "source": [
    "embedding_dim = 50\n",
    "model = models.Sequential()\n",
    "\n",
    "model.add(layers.Embedding(vocab_maxlen, embedding_dim, input_length=seq_maxlen))\n",
    "model.add(layers.LSTM(32))\n",
    "model.add(layers.Dense(60, activation='relu'))\n",
    "model.add(layers.Dense(30, activation='relu'))\n",
    "model.add(layers.Dropout(0.2))\n",
    "model.add(layers.Dense(1, activation='sigmoid'))\n",
    "\n",
    "model.compile(optimizer='rmsprop', loss='binary_crossentropy', metrics=['acc'])\n",
    "\n",
    "model.summary()"
   ]
  },
  {
   "cell_type": "code",
   "execution_count": 41,
   "metadata": {},
   "outputs": [
    {
     "name": "stdout",
     "output_type": "stream",
     "text": [
      "Train on 369567 samples, validate on 41064 samples\n",
      "Epoch 1/10\n",
      "369567/369567 [==============================] - 37s 99us/step - loss: 0.3884 - acc: 0.8417 - val_loss: 0.3360 - val_acc: 0.8664\n",
      "Epoch 2/10\n",
      "369567/369567 [==============================] - 37s 100us/step - loss: 0.3225 - acc: 0.8830 - val_loss: 0.3259 - val_acc: 0.8779\n",
      "Epoch 3/10\n",
      "369567/369567 [==============================] - 37s 100us/step - loss: 0.3079 - acc: 0.8918 - val_loss: 0.3189 - val_acc: 0.8989\n",
      "Epoch 4/10\n",
      "369567/369567 [==============================] - 37s 100us/step - loss: 0.2986 - acc: 0.8939 - val_loss: 0.3271 - val_acc: 0.8910\n"
     ]
    }
   ],
   "source": [
    "history = model.fit(X_train, \n",
    "                    y_train, \n",
    "                    epochs=10, \n",
    "                    batch_size=512,\n",
    "                    sample_weight=sample_weights,\n",
    "                    validation_split=0.10, \n",
    "                    callbacks=callbacks)"
   ]
  },
  {
   "cell_type": "code",
   "execution_count": 42,
   "metadata": {},
   "outputs": [
    {
     "name": "stdout",
     "output_type": "stream",
     "text": [
      "45626/45626 [==============================] - 5s 101us/step\n"
     ]
    },
    {
     "data": {
      "text/plain": [
       "[0.2648771057874637, 0.8979310042545744]"
      ]
     },
     "execution_count": 42,
     "metadata": {},
     "output_type": "execute_result"
    }
   ],
   "source": [
    "model.evaluate(X_test, y_test)"
   ]
  },
  {
   "cell_type": "code",
   "execution_count": null,
   "metadata": {},
   "outputs": [],
   "source": []
  },
  {
   "cell_type": "code",
   "execution_count": null,
   "metadata": {},
   "outputs": [],
   "source": []
  },
  {
   "cell_type": "code",
   "execution_count": null,
   "metadata": {},
   "outputs": [],
   "source": []
  },
  {
   "cell_type": "code",
   "execution_count": null,
   "metadata": {},
   "outputs": [],
   "source": []
  },
  {
   "cell_type": "code",
   "execution_count": 51,
   "metadata": {},
   "outputs": [
    {
     "data": {
      "text/plain": [
       "array([[36629,  7292],\n",
       "       [  194,  1511]])"
      ]
     },
     "execution_count": 51,
     "metadata": {},
     "output_type": "execute_result"
    }
   ],
   "source": [
    "confusion_matrix(y_test, model.predict_classes(X_test))"
   ]
  },
  {
   "cell_type": "code",
   "execution_count": 52,
   "metadata": {},
   "outputs": [
    {
     "data": {
      "text/plain": [
       "0.28759040730871716"
      ]
     },
     "execution_count": 52,
     "metadata": {},
     "output_type": "execute_result"
    }
   ],
   "source": [
    "f1_score(y_test, model.predict_classes(X_test))"
   ]
  },
  {
   "cell_type": "code",
   "execution_count": 53,
   "metadata": {},
   "outputs": [
    {
     "data": {
      "text/plain": [
       "0.17164602976258095"
      ]
     },
     "execution_count": 53,
     "metadata": {},
     "output_type": "execute_result"
    }
   ],
   "source": [
    "precision_score(y_test, model.predict_classes(X_test))"
   ]
  },
  {
   "cell_type": "code",
   "execution_count": 54,
   "metadata": {},
   "outputs": [
    {
     "data": {
      "text/plain": [
       "0.886217008797654"
      ]
     },
     "execution_count": 54,
     "metadata": {},
     "output_type": "execute_result"
    }
   ],
   "source": [
    "recall_score(y_test, model.predict_classes(X_test))"
   ]
  },
  {
   "cell_type": "code",
   "execution_count": 43,
   "metadata": {},
   "outputs": [
    {
     "data": {
      "text/plain": [
       "array([[43662,   259],\n",
       "       [ 1106,   599]])"
      ]
     },
     "execution_count": 43,
     "metadata": {},
     "output_type": "execute_result"
    }
   ],
   "source": [
    "confusion_matrix(y_test, model.predict_classes(X_test))"
   ]
  },
  {
   "cell_type": "code",
   "execution_count": 45,
   "metadata": {},
   "outputs": [
    {
     "data": {
      "text/plain": [
       "0.46742099102614126"
      ]
     },
     "execution_count": 45,
     "metadata": {},
     "output_type": "execute_result"
    }
   ],
   "source": [
    "f1_score(y_test, model.predict_classes(X_test))"
   ]
  },
  {
   "cell_type": "code",
   "execution_count": 47,
   "metadata": {},
   "outputs": [
    {
     "data": {
      "text/plain": [
       "0.6981351981351981"
      ]
     },
     "execution_count": 47,
     "metadata": {},
     "output_type": "execute_result"
    }
   ],
   "source": [
    "precision_score(y_test, model.predict_classes(X_test))"
   ]
  },
  {
   "cell_type": "code",
   "execution_count": 46,
   "metadata": {},
   "outputs": [
    {
     "data": {
      "text/plain": [
       "0.35131964809384164"
      ]
     },
     "execution_count": 46,
     "metadata": {},
     "output_type": "execute_result"
    }
   ],
   "source": [
    "recall_score(y_test, model.predict_classes(X_test))"
   ]
  },
  {
   "cell_type": "code",
   "execution_count": null,
   "metadata": {},
   "outputs": [],
   "source": [
    "submission = pd.DataFrame()\n",
    "submission['qid'] = test.qid\n",
    "submission['prediction'] = model.predict_classes(X_test)\n",
    "\n",
    "submission.to_csv(data_dir + '/submission.csv', index=False)"
   ]
  }
 ],
 "metadata": {
  "kernelspec": {
   "display_name": "Python 3",
   "language": "python",
   "name": "python3"
  },
  "language_info": {
   "codemirror_mode": {
    "name": "ipython",
    "version": 3
   },
   "file_extension": ".py",
   "mimetype": "text/x-python",
   "name": "python",
   "nbconvert_exporter": "python",
   "pygments_lexer": "ipython3",
   "version": "3.6.7"
  }
 },
 "nbformat": 4,
 "nbformat_minor": 2
}
