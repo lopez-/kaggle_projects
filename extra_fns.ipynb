{
 "cells": [
  {
   "cell_type": "code",
   "execution_count": 4,
   "metadata": {},
   "outputs": [],
   "source": [
    "import matplotlib.pyplot as plt\n",
    "import numpy as np"
   ]
  },
  {
   "cell_type": "code",
   "execution_count": 3,
   "metadata": {},
   "outputs": [],
   "source": [
    "def evaluate_nn(h):\n",
    "    results = h.history\n",
    "    epochs = h.epoch\n",
    "    \n",
    "    print('Max Val Accuracy {0} on Epoch {1}'.format(np.max(results['val_acc']), np.argmax(results['val_acc'])))\n",
    "\n",
    "    fig, (ax1, ax2) = plt.subplots(1,2, figsize=(18,6), sharey=True)\n",
    "\n",
    "    ax1.plot(epochs, results['acc'], label='train')\n",
    "    ax1.plot(epochs, results['val_acc'], label='val')\n",
    "    ax1.set_title('Accuracy', )\n",
    "    ax1.legend()\n",
    "\n",
    "    ax2.plot(epochs, results['loss'], label='train')\n",
    "    ax2.plot(epochs, results['val_loss'], label='val')\n",
    "    ax2.set_title('Accuracy')\n",
    "    ax2.legend()\n",
    "\n",
    "    plt.show()"
   ]
  },
  {
   "cell_type": "code",
   "execution_count": null,
   "metadata": {},
   "outputs": [],
   "source": []
  }
 ],
 "metadata": {
  "kernelspec": {
   "display_name": "Python 3",
   "language": "python",
   "name": "python3"
  },
  "language_info": {
   "codemirror_mode": {
    "name": "ipython",
    "version": 3
   },
   "file_extension": ".py",
   "mimetype": "text/x-python",
   "name": "python",
   "nbconvert_exporter": "python",
   "pygments_lexer": "ipython3",
   "version": "3.6.7"
  }
 },
 "nbformat": 4,
 "nbformat_minor": 2
}
